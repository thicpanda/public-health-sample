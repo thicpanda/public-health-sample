{
  "cells": [
    {
      "cell_type": "markdown",
      "metadata": {
        "id": "view-in-github",
        "colab_type": "text"
      },
      "source": [
        "<a href=\"https://colab.research.google.com/github/thicpanda/public-health-sample/blob/main/Times_Series_analysis_of_SNAP_data_and_Macro_factors_in_the_US.ipynb\" target=\"_parent\"><img src=\"https://colab.research.google.com/assets/colab-badge.svg\" alt=\"Open In Colab\"/></a>"
      ]
    },
    {
      "cell_type": "markdown",
      "source": [
        "##Times Series analysis of SNAP data and Macro factors in the US"
      ],
      "metadata": {
        "id": "3Sa644_CCGLL"
      }
    },
    {
      "cell_type": "markdown",
      "metadata": {
        "id": "roPPwc54hvAK"
      },
      "source": [
        "This notebook will showcase an analysis of SNAP data provided by the USDA while also adding other data sources (primarily macro economic data). I will also showcase some ML techniques applied to this dataset as big data predictive analytics is not widely adopted in public health. This analysis will be relevant as it gives a foothold of what is currently goingon within the SNAP program and how it has been adminstrated in the past. SNAP is a solution to the food insecurity problem we have the US as it is a means for those with financial difficulties to still have proper dietary intake. If the program doesn't operate as intended those with food insecurites are vulnerable to dietary deficient medical conditions that are easily preventable. \n",
        "\n",
        "The dataset used is available on my Github at https://github.com/thicpanda/public-health-sample and will be linked in the data sources at teh bottom of this python notebook. \n",
        "\n",
        "This code was written on Google Colab"
      ]
    },
    {
      "cell_type": "markdown",
      "metadata": {
        "id": "dGO491_RaJNx"
      },
      "source": [
        "Relevant Terms used - I will be using terms from several diffferent fields that are esoteric and will try to keep track of the more technical or not common terms here.\n",
        "\n"
      ]
    },
    {
      "cell_type": "markdown",
      "metadata": {
        "id": "f1GiYD2dfRSu"
      },
      "source": [
        "#Importing Libraries\n",
        "\n",
        "Packages used are the standard data science packages, I also added on a package called data augmentation (details at the bottom of the notebook). Data augmentation will be used later on to assist with the ML techniques used as having annual data starting in 1969 will not result in enough data to result in a robust predictive model considering trained models usually use exponentially larger datasets to train the models. "
      ]
    },
    {
      "cell_type": "code",
      "execution_count": 1,
      "metadata": {
        "id": "oFqzuHVahuOn",
        "colab": {
          "base_uri": "https://localhost:8080/"
        },
        "outputId": "345ce966-4070-4034-9254-460c5c29e528"
      },
      "outputs": [
        {
          "output_type": "stream",
          "name": "stderr",
          "text": [
            "/usr/local/lib/python3.7/dist-packages/statsmodels/tools/_testing.py:19: FutureWarning: pandas.util.testing is deprecated. Use the functions in the public API at pandas.testing instead.\n",
            "  import pandas.util.testing as tm\n"
          ]
        }
      ],
      "source": [
        "import numpy as np\n",
        "import matplotlib.pyplot as plt\n",
        "import matplotlib.ticker as ticker\n",
        "import scipy as sci\n",
        "import statsmodels.api as stat\n",
        "import statsmodels.formula.api as smf\n",
        "import io\n",
        "import pandas as pd\n",
        "import seaborn as sns"
      ]
    },
    {
      "cell_type": "markdown",
      "source": [
        "## Porting the dataset from my Github"
      ],
      "metadata": {
        "id": "5_rilEqd9JUv"
      }
    },
    {
      "cell_type": "code",
      "source": [
        "url = 'https://raw.githubusercontent.com/thicpanda/public-health-sample/main/SNAP%20Data%20.csv'\n",
        "df1 = pd.read_csv(url)"
      ],
      "metadata": {
        "id": "iLhq_hVWwLZG"
      },
      "execution_count": 2,
      "outputs": []
    },
    {
      "cell_type": "markdown",
      "source": [
        "Showing the dataset to make sure the data is correct (it is)"
      ],
      "metadata": {
        "id": "quEIYZSl9PmP"
      }
    },
    {
      "cell_type": "code",
      "source": [
        "df1"
      ],
      "metadata": {
        "colab": {
          "base_uri": "https://localhost:8080/",
          "height": 1000
        },
        "id": "dJRmYmYoDIIC",
        "outputId": "e9efcc55-e226-492c-efeb-1ade6a424ba3"
      },
      "execution_count": 3,
      "outputs": [
        {
          "output_type": "execute_result",
          "data": {
            "text/html": [
              "\n",
              "  <div id=\"df-70d88d93-75be-4729-b3aa-9435933c21b9\">\n",
              "    <div class=\"colab-df-container\">\n",
              "      <div>\n",
              "<style scoped>\n",
              "    .dataframe tbody tr th:only-of-type {\n",
              "        vertical-align: middle;\n",
              "    }\n",
              "\n",
              "    .dataframe tbody tr th {\n",
              "        vertical-align: top;\n",
              "    }\n",
              "\n",
              "    .dataframe thead th {\n",
              "        text-align: right;\n",
              "    }\n",
              "</style>\n",
              "<table border=\"1\" class=\"dataframe\">\n",
              "  <thead>\n",
              "    <tr style=\"text-align: right;\">\n",
              "      <th></th>\n",
              "      <th>Fiscal Year</th>\n",
              "      <th>Average Participation (thousands)</th>\n",
              "      <th>Average Monthly Benefit Per Person ($)</th>\n",
              "      <th>Total Benefits (Millions)</th>\n",
              "      <th>All Other Costs (Millions)</th>\n",
              "      <th>Total Costs (Millions)</th>\n",
              "      <th>Annual Inflation (%)</th>\n",
              "      <th>Annual US Population Growth (%)</th>\n",
              "      <th>Annual Participation Growth Rate</th>\n",
              "      <th>Annual Admin Cost Growth (loss)</th>\n",
              "      <th>Annual Total Benefit Growth (%)</th>\n",
              "      <th>Monthly Benefit Growth per Person (%)</th>\n",
              "      <th>Difference in annual growth rates of total benefits and inflation(Annual Benefit Growth - Inflation Rate) (%)</th>\n",
              "      <th>Annual Average Unemployment Rate(%)</th>\n",
              "    </tr>\n",
              "  </thead>\n",
              "  <tbody>\n",
              "    <tr>\n",
              "      <th>0</th>\n",
              "      <td>1969</td>\n",
              "      <td>2,878</td>\n",
              "      <td>6.63</td>\n",
              "      <td>228.80</td>\n",
              "      <td>21.70</td>\n",
              "      <td>250.50</td>\n",
              "      <td>5.46</td>\n",
              "      <td>0.90</td>\n",
              "      <td>0.00</td>\n",
              "      <td>0.00</td>\n",
              "      <td>0.00</td>\n",
              "      <td>0.00</td>\n",
              "      <td>0.00</td>\n",
              "      <td>3.5</td>\n",
              "    </tr>\n",
              "    <tr>\n",
              "      <th>1</th>\n",
              "      <td>1970</td>\n",
              "      <td>4,340</td>\n",
              "      <td>10.55</td>\n",
              "      <td>549.70</td>\n",
              "      <td>27.20</td>\n",
              "      <td>576.90</td>\n",
              "      <td>5.84</td>\n",
              "      <td>0.89</td>\n",
              "      <td>33.69</td>\n",
              "      <td>20.22</td>\n",
              "      <td>58.38</td>\n",
              "      <td>37.16</td>\n",
              "      <td>52.54</td>\n",
              "      <td>4.9</td>\n",
              "    </tr>\n",
              "    <tr>\n",
              "      <th>2</th>\n",
              "      <td>1971</td>\n",
              "      <td>9,368</td>\n",
              "      <td>13.55</td>\n",
              "      <td>1,522.70</td>\n",
              "      <td>53.20</td>\n",
              "      <td>1,575.90</td>\n",
              "      <td>4.29</td>\n",
              "      <td>0.89</td>\n",
              "      <td>53.67</td>\n",
              "      <td>48.87</td>\n",
              "      <td>63.90</td>\n",
              "      <td>22.14</td>\n",
              "      <td>59.61</td>\n",
              "      <td>5.9</td>\n",
              "    </tr>\n",
              "    <tr>\n",
              "      <th>3</th>\n",
              "      <td>1972</td>\n",
              "      <td>11,109</td>\n",
              "      <td>13.48</td>\n",
              "      <td>1,797.30</td>\n",
              "      <td>69.40</td>\n",
              "      <td>1,866.70</td>\n",
              "      <td>3.27</td>\n",
              "      <td>0.89</td>\n",
              "      <td>15.67</td>\n",
              "      <td>23.34</td>\n",
              "      <td>15.28</td>\n",
              "      <td>-0.52</td>\n",
              "      <td>12.01</td>\n",
              "      <td>5.6</td>\n",
              "    </tr>\n",
              "    <tr>\n",
              "      <th>4</th>\n",
              "      <td>1973</td>\n",
              "      <td>12,166</td>\n",
              "      <td>14.60</td>\n",
              "      <td>2,131.40</td>\n",
              "      <td>76.00</td>\n",
              "      <td>2,207.40</td>\n",
              "      <td>6.18</td>\n",
              "      <td>0.90</td>\n",
              "      <td>8.69</td>\n",
              "      <td>8.68</td>\n",
              "      <td>15.68</td>\n",
              "      <td>7.67</td>\n",
              "      <td>9.50</td>\n",
              "      <td>4.9</td>\n",
              "    </tr>\n",
              "    <tr>\n",
              "      <th>5</th>\n",
              "      <td>1974</td>\n",
              "      <td>12,862</td>\n",
              "      <td>17.61</td>\n",
              "      <td>2,718.30</td>\n",
              "      <td>119.20</td>\n",
              "      <td>2,837.50</td>\n",
              "      <td>11.05</td>\n",
              "      <td>0.90</td>\n",
              "      <td>5.41</td>\n",
              "      <td>36.24</td>\n",
              "      <td>21.59</td>\n",
              "      <td>17.09</td>\n",
              "      <td>10.54</td>\n",
              "      <td>5.6</td>\n",
              "    </tr>\n",
              "    <tr>\n",
              "      <th>6</th>\n",
              "      <td>1975</td>\n",
              "      <td>17,064</td>\n",
              "      <td>21.40</td>\n",
              "      <td>4,385.50</td>\n",
              "      <td>233.20</td>\n",
              "      <td>4,618.70</td>\n",
              "      <td>9.14</td>\n",
              "      <td>0.91</td>\n",
              "      <td>24.62</td>\n",
              "      <td>48.89</td>\n",
              "      <td>38.02</td>\n",
              "      <td>17.71</td>\n",
              "      <td>28.87</td>\n",
              "      <td>8.5</td>\n",
              "    </tr>\n",
              "    <tr>\n",
              "      <th>7</th>\n",
              "      <td>1976</td>\n",
              "      <td>18,549</td>\n",
              "      <td>23.93</td>\n",
              "      <td>5,326.50</td>\n",
              "      <td>359.00</td>\n",
              "      <td>5,685.50</td>\n",
              "      <td>5.74</td>\n",
              "      <td>0.92</td>\n",
              "      <td>8.01</td>\n",
              "      <td>35.04</td>\n",
              "      <td>17.67</td>\n",
              "      <td>10.57</td>\n",
              "      <td>11.92</td>\n",
              "      <td>7.7</td>\n",
              "    </tr>\n",
              "    <tr>\n",
              "      <th>8</th>\n",
              "      <td>1977</td>\n",
              "      <td>17,077</td>\n",
              "      <td>24.71</td>\n",
              "      <td>5,067.00</td>\n",
              "      <td>394.00</td>\n",
              "      <td>5,461.00</td>\n",
              "      <td>6.50</td>\n",
              "      <td>0.93</td>\n",
              "      <td>-8.62</td>\n",
              "      <td>8.88</td>\n",
              "      <td>-5.12</td>\n",
              "      <td>3.16</td>\n",
              "      <td>-11.62</td>\n",
              "      <td>7.1</td>\n",
              "    </tr>\n",
              "    <tr>\n",
              "      <th>9</th>\n",
              "      <td>1978</td>\n",
              "      <td>16,001</td>\n",
              "      <td>26.77</td>\n",
              "      <td>5,139.20</td>\n",
              "      <td>380.50</td>\n",
              "      <td>5,519.70</td>\n",
              "      <td>7.63</td>\n",
              "      <td>0.94</td>\n",
              "      <td>-6.72</td>\n",
              "      <td>-3.55</td>\n",
              "      <td>1.40</td>\n",
              "      <td>7.70</td>\n",
              "      <td>-6.23</td>\n",
              "      <td>6.1</td>\n",
              "    </tr>\n",
              "    <tr>\n",
              "      <th>10</th>\n",
              "      <td>1979</td>\n",
              "      <td>17,653</td>\n",
              "      <td>30.59</td>\n",
              "      <td>6,480.20</td>\n",
              "      <td>459.60</td>\n",
              "      <td>6,939.80</td>\n",
              "      <td>11.25</td>\n",
              "      <td>0.94</td>\n",
              "      <td>9.36</td>\n",
              "      <td>17.21</td>\n",
              "      <td>20.69</td>\n",
              "      <td>12.49</td>\n",
              "      <td>9.44</td>\n",
              "      <td>5.8</td>\n",
              "    </tr>\n",
              "    <tr>\n",
              "      <th>11</th>\n",
              "      <td>1980</td>\n",
              "      <td>21,082</td>\n",
              "      <td>34.47</td>\n",
              "      <td>8,720.90</td>\n",
              "      <td>485.60</td>\n",
              "      <td>9,206.50</td>\n",
              "      <td>13.55</td>\n",
              "      <td>0.94</td>\n",
              "      <td>16.27</td>\n",
              "      <td>5.35</td>\n",
              "      <td>25.69</td>\n",
              "      <td>11.26</td>\n",
              "      <td>12.14</td>\n",
              "      <td>7.1</td>\n",
              "    </tr>\n",
              "    <tr>\n",
              "      <th>12</th>\n",
              "      <td>1981</td>\n",
              "      <td>22,430</td>\n",
              "      <td>39.49</td>\n",
              "      <td>10,629.90</td>\n",
              "      <td>595.40</td>\n",
              "      <td>11,225.20</td>\n",
              "      <td>10.33</td>\n",
              "      <td>0.94</td>\n",
              "      <td>6.01</td>\n",
              "      <td>18.44</td>\n",
              "      <td>17.96</td>\n",
              "      <td>12.71</td>\n",
              "      <td>7.62</td>\n",
              "      <td>7.6</td>\n",
              "    </tr>\n",
              "    <tr>\n",
              "      <th>13</th>\n",
              "      <td>1982</td>\n",
              "      <td>21,717</td>\n",
              "      <td>39.17</td>\n",
              "      <td>10,208.30</td>\n",
              "      <td>628.40</td>\n",
              "      <td>10,836.70</td>\n",
              "      <td>6.13</td>\n",
              "      <td>0.94</td>\n",
              "      <td>-3.28</td>\n",
              "      <td>5.25</td>\n",
              "      <td>-4.13</td>\n",
              "      <td>-0.82</td>\n",
              "      <td>-10.26</td>\n",
              "      <td>9.7</td>\n",
              "    </tr>\n",
              "    <tr>\n",
              "      <th>14</th>\n",
              "      <td>1983</td>\n",
              "      <td>21,625</td>\n",
              "      <td>42.98</td>\n",
              "      <td>11,152.30</td>\n",
              "      <td>694.80</td>\n",
              "      <td>11,847.10</td>\n",
              "      <td>3.21</td>\n",
              "      <td>0.94</td>\n",
              "      <td>-0.43</td>\n",
              "      <td>9.56</td>\n",
              "      <td>8.46</td>\n",
              "      <td>8.86</td>\n",
              "      <td>5.25</td>\n",
              "      <td>9.6</td>\n",
              "    </tr>\n",
              "    <tr>\n",
              "      <th>15</th>\n",
              "      <td>1984</td>\n",
              "      <td>20,854</td>\n",
              "      <td>42.74</td>\n",
              "      <td>10,696.10</td>\n",
              "      <td>882.60</td>\n",
              "      <td>11,578.80</td>\n",
              "      <td>4.30</td>\n",
              "      <td>0.94</td>\n",
              "      <td>-3.70</td>\n",
              "      <td>21.28</td>\n",
              "      <td>-4.27</td>\n",
              "      <td>-0.56</td>\n",
              "      <td>-8.57</td>\n",
              "      <td>7.5</td>\n",
              "    </tr>\n",
              "    <tr>\n",
              "      <th>16</th>\n",
              "      <td>1985</td>\n",
              "      <td>19,899</td>\n",
              "      <td>44.99</td>\n",
              "      <td>10,743.60</td>\n",
              "      <td>959.60</td>\n",
              "      <td>11,703.20</td>\n",
              "      <td>3.55</td>\n",
              "      <td>0.94</td>\n",
              "      <td>-4.80</td>\n",
              "      <td>8.02</td>\n",
              "      <td>0.44</td>\n",
              "      <td>5.00</td>\n",
              "      <td>-3.10</td>\n",
              "      <td>7.2</td>\n",
              "    </tr>\n",
              "    <tr>\n",
              "      <th>17</th>\n",
              "      <td>1986</td>\n",
              "      <td>19,429</td>\n",
              "      <td>45.49</td>\n",
              "      <td>10,605.20</td>\n",
              "      <td>1,033.20</td>\n",
              "      <td>11,638.40</td>\n",
              "      <td>1.90</td>\n",
              "      <td>0.94</td>\n",
              "      <td>-2.42</td>\n",
              "      <td>7.12</td>\n",
              "      <td>-1.31</td>\n",
              "      <td>1.10</td>\n",
              "      <td>-3.20</td>\n",
              "      <td>7.0</td>\n",
              "    </tr>\n",
              "    <tr>\n",
              "      <th>18</th>\n",
              "      <td>1987</td>\n",
              "      <td>19,113</td>\n",
              "      <td>45.78</td>\n",
              "      <td>10,500.30</td>\n",
              "      <td>1,103.90</td>\n",
              "      <td>11,604.20</td>\n",
              "      <td>3.66</td>\n",
              "      <td>0.94</td>\n",
              "      <td>-1.65</td>\n",
              "      <td>6.40</td>\n",
              "      <td>-1.00</td>\n",
              "      <td>0.63</td>\n",
              "      <td>-4.66</td>\n",
              "      <td>6.2</td>\n",
              "    </tr>\n",
              "    <tr>\n",
              "      <th>19</th>\n",
              "      <td>1988</td>\n",
              "      <td>18,645</td>\n",
              "      <td>49.83</td>\n",
              "      <td>11,149.10</td>\n",
              "      <td>1,167.70</td>\n",
              "      <td>12,316.80</td>\n",
              "      <td>4.08</td>\n",
              "      <td>0.95</td>\n",
              "      <td>-2.51</td>\n",
              "      <td>5.46</td>\n",
              "      <td>5.82</td>\n",
              "      <td>8.13</td>\n",
              "      <td>1.74</td>\n",
              "      <td>5.5</td>\n",
              "    </tr>\n",
              "    <tr>\n",
              "      <th>20</th>\n",
              "      <td>1989</td>\n",
              "      <td>18,806</td>\n",
              "      <td>51.71</td>\n",
              "      <td>11,669.78</td>\n",
              "      <td>1,231.81</td>\n",
              "      <td>12,901.59</td>\n",
              "      <td>4.83</td>\n",
              "      <td>0.95</td>\n",
              "      <td>0.86</td>\n",
              "      <td>5.20</td>\n",
              "      <td>4.46</td>\n",
              "      <td>3.64</td>\n",
              "      <td>-0.37</td>\n",
              "      <td>5.3</td>\n",
              "    </tr>\n",
              "    <tr>\n",
              "      <th>21</th>\n",
              "      <td>1990</td>\n",
              "      <td>20,049</td>\n",
              "      <td>58.78</td>\n",
              "      <td>14,142.79</td>\n",
              "      <td>1,304.47</td>\n",
              "      <td>15,447.26</td>\n",
              "      <td>5.40</td>\n",
              "      <td>0.96</td>\n",
              "      <td>6.20</td>\n",
              "      <td>5.57</td>\n",
              "      <td>17.49</td>\n",
              "      <td>12.03</td>\n",
              "      <td>12.09</td>\n",
              "      <td>5.6</td>\n",
              "    </tr>\n",
              "    <tr>\n",
              "      <th>22</th>\n",
              "      <td>1991</td>\n",
              "      <td>22,625</td>\n",
              "      <td>63.78</td>\n",
              "      <td>17,315.77</td>\n",
              "      <td>1,431.50</td>\n",
              "      <td>18,747.27</td>\n",
              "      <td>4.24</td>\n",
              "      <td>0.96</td>\n",
              "      <td>11.38</td>\n",
              "      <td>8.87</td>\n",
              "      <td>18.32</td>\n",
              "      <td>7.84</td>\n",
              "      <td>14.09</td>\n",
              "      <td>6.8</td>\n",
              "    </tr>\n",
              "    <tr>\n",
              "      <th>23</th>\n",
              "      <td>1992</td>\n",
              "      <td>25,407</td>\n",
              "      <td>68.57</td>\n",
              "      <td>20,905.68</td>\n",
              "      <td>1,556.66</td>\n",
              "      <td>22,462.34</td>\n",
              "      <td>3.03</td>\n",
              "      <td>0.96</td>\n",
              "      <td>10.95</td>\n",
              "      <td>8.04</td>\n",
              "      <td>17.17</td>\n",
              "      <td>6.99</td>\n",
              "      <td>14.14</td>\n",
              "      <td>7.5</td>\n",
              "    </tr>\n",
              "    <tr>\n",
              "      <th>24</th>\n",
              "      <td>1993</td>\n",
              "      <td>26,987</td>\n",
              "      <td>67.95</td>\n",
              "      <td>22,006.03</td>\n",
              "      <td>1,646.94</td>\n",
              "      <td>23,652.97</td>\n",
              "      <td>2.95</td>\n",
              "      <td>0.99</td>\n",
              "      <td>5.85</td>\n",
              "      <td>5.48</td>\n",
              "      <td>5.00</td>\n",
              "      <td>-0.91</td>\n",
              "      <td>2.05</td>\n",
              "      <td>6.9</td>\n",
              "    </tr>\n",
              "    <tr>\n",
              "      <th>25</th>\n",
              "      <td>1994</td>\n",
              "      <td>27,474</td>\n",
              "      <td>69.00</td>\n",
              "      <td>22,748.58</td>\n",
              "      <td>1,744.87</td>\n",
              "      <td>24,493.45</td>\n",
              "      <td>2.61</td>\n",
              "      <td>1.04</td>\n",
              "      <td>1.77</td>\n",
              "      <td>5.61</td>\n",
              "      <td>3.26</td>\n",
              "      <td>1.52</td>\n",
              "      <td>0.66</td>\n",
              "      <td>6.1</td>\n",
              "    </tr>\n",
              "    <tr>\n",
              "      <th>26</th>\n",
              "      <td>1995</td>\n",
              "      <td>26,619</td>\n",
              "      <td>71.27</td>\n",
              "      <td>22,764.07</td>\n",
              "      <td>1,856.30</td>\n",
              "      <td>24,620.37</td>\n",
              "      <td>2.81</td>\n",
              "      <td>1.11</td>\n",
              "      <td>-3.21</td>\n",
              "      <td>6.00</td>\n",
              "      <td>0.07</td>\n",
              "      <td>3.19</td>\n",
              "      <td>-2.74</td>\n",
              "      <td>5.6</td>\n",
              "    </tr>\n",
              "    <tr>\n",
              "      <th>27</th>\n",
              "      <td>1996</td>\n",
              "      <td>25,543</td>\n",
              "      <td>73.21</td>\n",
              "      <td>22,440.11</td>\n",
              "      <td>1,890.88</td>\n",
              "      <td>24,330.99</td>\n",
              "      <td>2.93</td>\n",
              "      <td>1.20</td>\n",
              "      <td>-4.21</td>\n",
              "      <td>1.83</td>\n",
              "      <td>-1.44</td>\n",
              "      <td>2.65</td>\n",
              "      <td>-4.37</td>\n",
              "      <td>5.4</td>\n",
              "    </tr>\n",
              "    <tr>\n",
              "      <th>28</th>\n",
              "      <td>1997</td>\n",
              "      <td>22,858</td>\n",
              "      <td>71.27</td>\n",
              "      <td>19,548.86</td>\n",
              "      <td>1,958.68</td>\n",
              "      <td>21,507.55</td>\n",
              "      <td>2.34</td>\n",
              "      <td>1.26</td>\n",
              "      <td>-11.74</td>\n",
              "      <td>3.46</td>\n",
              "      <td>-14.79</td>\n",
              "      <td>-2.72</td>\n",
              "      <td>-17.13</td>\n",
              "      <td>4.9</td>\n",
              "    </tr>\n",
              "    <tr>\n",
              "      <th>29</th>\n",
              "      <td>1998</td>\n",
              "      <td>19,791</td>\n",
              "      <td>71.12</td>\n",
              "      <td>16,890.49</td>\n",
              "      <td>2,097.84</td>\n",
              "      <td>18,988.32</td>\n",
              "      <td>1.55</td>\n",
              "      <td>1.27</td>\n",
              "      <td>-15.50</td>\n",
              "      <td>6.63</td>\n",
              "      <td>-15.74</td>\n",
              "      <td>-0.21</td>\n",
              "      <td>-17.29</td>\n",
              "      <td>4.5</td>\n",
              "    </tr>\n",
              "    <tr>\n",
              "      <th>30</th>\n",
              "      <td>1999</td>\n",
              "      <td>18,183</td>\n",
              "      <td>72.27</td>\n",
              "      <td>15,769.40</td>\n",
              "      <td>2,051.52</td>\n",
              "      <td>17,820.92</td>\n",
              "      <td>2.19</td>\n",
              "      <td>1.23</td>\n",
              "      <td>-8.85</td>\n",
              "      <td>-2.26</td>\n",
              "      <td>-7.11</td>\n",
              "      <td>1.59</td>\n",
              "      <td>-9.30</td>\n",
              "      <td>4.2</td>\n",
              "    </tr>\n",
              "    <tr>\n",
              "      <th>31</th>\n",
              "      <td>2000</td>\n",
              "      <td>17,194</td>\n",
              "      <td>72.62</td>\n",
              "      <td>14,983.32</td>\n",
              "      <td>2,070.70</td>\n",
              "      <td>17,054.02</td>\n",
              "      <td>3.38</td>\n",
              "      <td>1.14</td>\n",
              "      <td>-5.75</td>\n",
              "      <td>0.93</td>\n",
              "      <td>-5.25</td>\n",
              "      <td>0.48</td>\n",
              "      <td>-8.62</td>\n",
              "      <td>4.0</td>\n",
              "    </tr>\n",
              "    <tr>\n",
              "      <th>32</th>\n",
              "      <td>2001</td>\n",
              "      <td>17,318</td>\n",
              "      <td>74.81</td>\n",
              "      <td>15,547.39</td>\n",
              "      <td>2,242.00</td>\n",
              "      <td>17,789.39</td>\n",
              "      <td>2.83</td>\n",
              "      <td>1.03</td>\n",
              "      <td>0.72</td>\n",
              "      <td>7.64</td>\n",
              "      <td>3.63</td>\n",
              "      <td>2.93</td>\n",
              "      <td>0.80</td>\n",
              "      <td>4.7</td>\n",
              "    </tr>\n",
              "    <tr>\n",
              "      <th>33</th>\n",
              "      <td>2002</td>\n",
              "      <td>19,096</td>\n",
              "      <td>79.67</td>\n",
              "      <td>18,256.20</td>\n",
              "      <td>2,380.82</td>\n",
              "      <td>20,637.02</td>\n",
              "      <td>1.59</td>\n",
              "      <td>0.94</td>\n",
              "      <td>9.31</td>\n",
              "      <td>5.83</td>\n",
              "      <td>14.84</td>\n",
              "      <td>6.10</td>\n",
              "      <td>13.25</td>\n",
              "      <td>5.8</td>\n",
              "    </tr>\n",
              "    <tr>\n",
              "      <th>34</th>\n",
              "      <td>2003</td>\n",
              "      <td>21,250</td>\n",
              "      <td>83.94</td>\n",
              "      <td>21,404.28</td>\n",
              "      <td>2,412.01</td>\n",
              "      <td>23,816.28</td>\n",
              "      <td>2.27</td>\n",
              "      <td>0.88</td>\n",
              "      <td>10.14</td>\n",
              "      <td>1.29</td>\n",
              "      <td>14.71</td>\n",
              "      <td>5.09</td>\n",
              "      <td>12.44</td>\n",
              "      <td>6.0</td>\n",
              "    </tr>\n",
              "    <tr>\n",
              "      <th>35</th>\n",
              "      <td>2004</td>\n",
              "      <td>23,811</td>\n",
              "      <td>86.16</td>\n",
              "      <td>24,618.89</td>\n",
              "      <td>2,480.14</td>\n",
              "      <td>27,099.03</td>\n",
              "      <td>2.68</td>\n",
              "      <td>0.88</td>\n",
              "      <td>10.76</td>\n",
              "      <td>2.75</td>\n",
              "      <td>13.06</td>\n",
              "      <td>2.58</td>\n",
              "      <td>10.38</td>\n",
              "      <td>5.5</td>\n",
              "    </tr>\n",
              "    <tr>\n",
              "      <th>36</th>\n",
              "      <td>2005</td>\n",
              "      <td>25,628</td>\n",
              "      <td>92.89</td>\n",
              "      <td>28,567.88</td>\n",
              "      <td>2,504.13</td>\n",
              "      <td>31,072.01</td>\n",
              "      <td>3.39</td>\n",
              "      <td>0.90</td>\n",
              "      <td>7.09</td>\n",
              "      <td>0.96</td>\n",
              "      <td>13.82</td>\n",
              "      <td>7.25</td>\n",
              "      <td>10.43</td>\n",
              "      <td>5.1</td>\n",
              "    </tr>\n",
              "    <tr>\n",
              "      <th>37</th>\n",
              "      <td>2006</td>\n",
              "      <td>26,549</td>\n",
              "      <td>94.75</td>\n",
              "      <td>30,187.35</td>\n",
              "      <td>2,715.72</td>\n",
              "      <td>32,903.06</td>\n",
              "      <td>3.23</td>\n",
              "      <td>0.94</td>\n",
              "      <td>3.47</td>\n",
              "      <td>7.79</td>\n",
              "      <td>5.36</td>\n",
              "      <td>1.96</td>\n",
              "      <td>2.14</td>\n",
              "      <td>4.6</td>\n",
              "    </tr>\n",
              "    <tr>\n",
              "      <th>38</th>\n",
              "      <td>2007</td>\n",
              "      <td>26,316</td>\n",
              "      <td>96.18</td>\n",
              "      <td>30,373.27</td>\n",
              "      <td>2,800.25</td>\n",
              "      <td>33,173.52</td>\n",
              "      <td>2.85</td>\n",
              "      <td>0.96</td>\n",
              "      <td>-0.88</td>\n",
              "      <td>3.02</td>\n",
              "      <td>0.61</td>\n",
              "      <td>1.49</td>\n",
              "      <td>-2.24</td>\n",
              "      <td>4.6</td>\n",
              "    </tr>\n",
              "    <tr>\n",
              "      <th>39</th>\n",
              "      <td>2008</td>\n",
              "      <td>28,223</td>\n",
              "      <td>102.19</td>\n",
              "      <td>34,608.40</td>\n",
              "      <td>3,031.25</td>\n",
              "      <td>37,639.64</td>\n",
              "      <td>3.84</td>\n",
              "      <td>0.96</td>\n",
              "      <td>6.76</td>\n",
              "      <td>7.62</td>\n",
              "      <td>12.24</td>\n",
              "      <td>5.88</td>\n",
              "      <td>8.40</td>\n",
              "      <td>5.8</td>\n",
              "    </tr>\n",
              "    <tr>\n",
              "      <th>40</th>\n",
              "      <td>2009</td>\n",
              "      <td>33,490</td>\n",
              "      <td>125.31</td>\n",
              "      <td>50,359.92</td>\n",
              "      <td>3,260.00</td>\n",
              "      <td>53,619.92</td>\n",
              "      <td>-0.36</td>\n",
              "      <td>0.93</td>\n",
              "      <td>15.73</td>\n",
              "      <td>7.02</td>\n",
              "      <td>31.28</td>\n",
              "      <td>18.45</td>\n",
              "      <td>31.63</td>\n",
              "      <td>9.3</td>\n",
              "    </tr>\n",
              "    <tr>\n",
              "      <th>41</th>\n",
              "      <td>2010</td>\n",
              "      <td>40,302</td>\n",
              "      <td>133.79</td>\n",
              "      <td>64,702.16</td>\n",
              "      <td>3,581.30</td>\n",
              "      <td>68,283.47</td>\n",
              "      <td>1.64</td>\n",
              "      <td>0.88</td>\n",
              "      <td>16.90</td>\n",
              "      <td>8.97</td>\n",
              "      <td>22.17</td>\n",
              "      <td>6.34</td>\n",
              "      <td>20.53</td>\n",
              "      <td>9.6</td>\n",
              "    </tr>\n",
              "    <tr>\n",
              "      <th>42</th>\n",
              "      <td>2011</td>\n",
              "      <td>44,709</td>\n",
              "      <td>133.85</td>\n",
              "      <td>71,810.92</td>\n",
              "      <td>3,875.62</td>\n",
              "      <td>75,686.54</td>\n",
              "      <td>3.16</td>\n",
              "      <td>0.83</td>\n",
              "      <td>9.86</td>\n",
              "      <td>7.59</td>\n",
              "      <td>9.90</td>\n",
              "      <td>0.04</td>\n",
              "      <td>6.74</td>\n",
              "      <td>8.9</td>\n",
              "    </tr>\n",
              "    <tr>\n",
              "      <th>43</th>\n",
              "      <td>2012</td>\n",
              "      <td>46,609</td>\n",
              "      <td>133.41</td>\n",
              "      <td>74,619.34</td>\n",
              "      <td>3,791.75</td>\n",
              "      <td>78,411.10</td>\n",
              "      <td>2.07</td>\n",
              "      <td>0.79</td>\n",
              "      <td>4.08</td>\n",
              "      <td>-2.21</td>\n",
              "      <td>3.76</td>\n",
              "      <td>-0.33</td>\n",
              "      <td>1.69</td>\n",
              "      <td>8.1</td>\n",
              "    </tr>\n",
              "    <tr>\n",
              "      <th>44</th>\n",
              "      <td>2013</td>\n",
              "      <td>47,636</td>\n",
              "      <td>133.07</td>\n",
              "      <td>76,066.32</td>\n",
              "      <td>3,792.71</td>\n",
              "      <td>79,859.03</td>\n",
              "      <td>1.46</td>\n",
              "      <td>0.75</td>\n",
              "      <td>2.16</td>\n",
              "      <td>0.03</td>\n",
              "      <td>1.90</td>\n",
              "      <td>-0.26</td>\n",
              "      <td>0.44</td>\n",
              "      <td>7.4</td>\n",
              "    </tr>\n",
              "    <tr>\n",
              "      <th>45</th>\n",
              "      <td>2014</td>\n",
              "      <td>46,664</td>\n",
              "      <td>125.01</td>\n",
              "      <td>69,998.84</td>\n",
              "      <td>4,061.49</td>\n",
              "      <td>74,060.33</td>\n",
              "      <td>1.62</td>\n",
              "      <td>0.72</td>\n",
              "      <td>-2.08</td>\n",
              "      <td>6.62</td>\n",
              "      <td>-8.67</td>\n",
              "      <td>-6.45</td>\n",
              "      <td>-10.29</td>\n",
              "      <td>6.2</td>\n",
              "    </tr>\n",
              "    <tr>\n",
              "      <th>46</th>\n",
              "      <td>2015</td>\n",
              "      <td>45,767</td>\n",
              "      <td>126.81</td>\n",
              "      <td>69,645.14</td>\n",
              "      <td>4,301.03</td>\n",
              "      <td>73,946.17</td>\n",
              "      <td>0.12</td>\n",
              "      <td>0.69</td>\n",
              "      <td>-1.96</td>\n",
              "      <td>5.57</td>\n",
              "      <td>-0.51</td>\n",
              "      <td>1.42</td>\n",
              "      <td>-0.63</td>\n",
              "      <td>5.3</td>\n",
              "    </tr>\n",
              "    <tr>\n",
              "      <th>47</th>\n",
              "      <td>2016</td>\n",
              "      <td>44,220</td>\n",
              "      <td>125.40</td>\n",
              "      <td>66,539.27</td>\n",
              "      <td>4,372.87</td>\n",
              "      <td>70,912.14</td>\n",
              "      <td>1.26</td>\n",
              "      <td>0.67</td>\n",
              "      <td>-3.50</td>\n",
              "      <td>1.64</td>\n",
              "      <td>-4.67</td>\n",
              "      <td>-1.12</td>\n",
              "      <td>-5.93</td>\n",
              "      <td>4.9</td>\n",
              "    </tr>\n",
              "    <tr>\n",
              "      <th>48</th>\n",
              "      <td>2017</td>\n",
              "      <td>42,317</td>\n",
              "      <td>125.47</td>\n",
              "      <td>63,711.05</td>\n",
              "      <td>4,464.27</td>\n",
              "      <td>68,175.32</td>\n",
              "      <td>2.13</td>\n",
              "      <td>0.64</td>\n",
              "      <td>-4.50</td>\n",
              "      <td>2.05</td>\n",
              "      <td>-4.44</td>\n",
              "      <td>0.06</td>\n",
              "      <td>-6.57</td>\n",
              "      <td>4.4</td>\n",
              "    </tr>\n",
              "    <tr>\n",
              "      <th>49</th>\n",
              "      <td>2018</td>\n",
              "      <td>40,776</td>\n",
              "      <td>124.50</td>\n",
              "      <td>60,916.85</td>\n",
              "      <td>4,533.16</td>\n",
              "      <td>65,450.01</td>\n",
              "      <td>2.44</td>\n",
              "      <td>0.62</td>\n",
              "      <td>-3.78</td>\n",
              "      <td>1.52</td>\n",
              "      <td>-4.59</td>\n",
              "      <td>-0.78</td>\n",
              "      <td>-7.03</td>\n",
              "      <td>3.9</td>\n",
              "    </tr>\n",
              "    <tr>\n",
              "      <th>50</th>\n",
              "      <td>2019</td>\n",
              "      <td>35,702</td>\n",
              "      <td>129.83</td>\n",
              "      <td>55,622.28</td>\n",
              "      <td>4,774.91</td>\n",
              "      <td>60,397.19</td>\n",
              "      <td>1.81</td>\n",
              "      <td>0.60</td>\n",
              "      <td>-14.21</td>\n",
              "      <td>5.06</td>\n",
              "      <td>-9.52</td>\n",
              "      <td>4.11</td>\n",
              "      <td>-11.33</td>\n",
              "      <td>3.7</td>\n",
              "    </tr>\n",
              "    <tr>\n",
              "      <th>51</th>\n",
              "      <td>2020</td>\n",
              "      <td>39,880</td>\n",
              "      <td>154.81</td>\n",
              "      <td>74,085.19</td>\n",
              "      <td>4,990.72</td>\n",
              "      <td>79,075.91</td>\n",
              "      <td>1.23</td>\n",
              "      <td>0.59</td>\n",
              "      <td>10.48</td>\n",
              "      <td>4.32</td>\n",
              "      <td>24.92</td>\n",
              "      <td>16.14</td>\n",
              "      <td>23.69</td>\n",
              "      <td>8.1</td>\n",
              "    </tr>\n",
              "  </tbody>\n",
              "</table>\n",
              "</div>\n",
              "      <button class=\"colab-df-convert\" onclick=\"convertToInteractive('df-70d88d93-75be-4729-b3aa-9435933c21b9')\"\n",
              "              title=\"Convert this dataframe to an interactive table.\"\n",
              "              style=\"display:none;\">\n",
              "        \n",
              "  <svg xmlns=\"http://www.w3.org/2000/svg\" height=\"24px\"viewBox=\"0 0 24 24\"\n",
              "       width=\"24px\">\n",
              "    <path d=\"M0 0h24v24H0V0z\" fill=\"none\"/>\n",
              "    <path d=\"M18.56 5.44l.94 2.06.94-2.06 2.06-.94-2.06-.94-.94-2.06-.94 2.06-2.06.94zm-11 1L8.5 8.5l.94-2.06 2.06-.94-2.06-.94L8.5 2.5l-.94 2.06-2.06.94zm10 10l.94 2.06.94-2.06 2.06-.94-2.06-.94-.94-2.06-.94 2.06-2.06.94z\"/><path d=\"M17.41 7.96l-1.37-1.37c-.4-.4-.92-.59-1.43-.59-.52 0-1.04.2-1.43.59L10.3 9.45l-7.72 7.72c-.78.78-.78 2.05 0 2.83L4 21.41c.39.39.9.59 1.41.59.51 0 1.02-.2 1.41-.59l7.78-7.78 2.81-2.81c.8-.78.8-2.07 0-2.86zM5.41 20L4 18.59l7.72-7.72 1.47 1.35L5.41 20z\"/>\n",
              "  </svg>\n",
              "      </button>\n",
              "      \n",
              "  <style>\n",
              "    .colab-df-container {\n",
              "      display:flex;\n",
              "      flex-wrap:wrap;\n",
              "      gap: 12px;\n",
              "    }\n",
              "\n",
              "    .colab-df-convert {\n",
              "      background-color: #E8F0FE;\n",
              "      border: none;\n",
              "      border-radius: 50%;\n",
              "      cursor: pointer;\n",
              "      display: none;\n",
              "      fill: #1967D2;\n",
              "      height: 32px;\n",
              "      padding: 0 0 0 0;\n",
              "      width: 32px;\n",
              "    }\n",
              "\n",
              "    .colab-df-convert:hover {\n",
              "      background-color: #E2EBFA;\n",
              "      box-shadow: 0px 1px 2px rgba(60, 64, 67, 0.3), 0px 1px 3px 1px rgba(60, 64, 67, 0.15);\n",
              "      fill: #174EA6;\n",
              "    }\n",
              "\n",
              "    [theme=dark] .colab-df-convert {\n",
              "      background-color: #3B4455;\n",
              "      fill: #D2E3FC;\n",
              "    }\n",
              "\n",
              "    [theme=dark] .colab-df-convert:hover {\n",
              "      background-color: #434B5C;\n",
              "      box-shadow: 0px 1px 3px 1px rgba(0, 0, 0, 0.15);\n",
              "      filter: drop-shadow(0px 1px 2px rgba(0, 0, 0, 0.3));\n",
              "      fill: #FFFFFF;\n",
              "    }\n",
              "  </style>\n",
              "\n",
              "      <script>\n",
              "        const buttonEl =\n",
              "          document.querySelector('#df-70d88d93-75be-4729-b3aa-9435933c21b9 button.colab-df-convert');\n",
              "        buttonEl.style.display =\n",
              "          google.colab.kernel.accessAllowed ? 'block' : 'none';\n",
              "\n",
              "        async function convertToInteractive(key) {\n",
              "          const element = document.querySelector('#df-70d88d93-75be-4729-b3aa-9435933c21b9');\n",
              "          const dataTable =\n",
              "            await google.colab.kernel.invokeFunction('convertToInteractive',\n",
              "                                                     [key], {});\n",
              "          if (!dataTable) return;\n",
              "\n",
              "          const docLinkHtml = 'Like what you see? Visit the ' +\n",
              "            '<a target=\"_blank\" href=https://colab.research.google.com/notebooks/data_table.ipynb>data table notebook</a>'\n",
              "            + ' to learn more about interactive tables.';\n",
              "          element.innerHTML = '';\n",
              "          dataTable['output_type'] = 'display_data';\n",
              "          await google.colab.output.renderOutput(dataTable, element);\n",
              "          const docLink = document.createElement('div');\n",
              "          docLink.innerHTML = docLinkHtml;\n",
              "          element.appendChild(docLink);\n",
              "        }\n",
              "      </script>\n",
              "    </div>\n",
              "  </div>\n",
              "  "
            ],
            "text/plain": [
              "    Fiscal Year  ... Annual Average Unemployment Rate(%)\n",
              "0          1969  ...                                 3.5\n",
              "1          1970  ...                                 4.9\n",
              "2          1971  ...                                 5.9\n",
              "3          1972  ...                                 5.6\n",
              "4          1973  ...                                 4.9\n",
              "5          1974  ...                                 5.6\n",
              "6          1975  ...                                 8.5\n",
              "7          1976  ...                                 7.7\n",
              "8          1977  ...                                 7.1\n",
              "9          1978  ...                                 6.1\n",
              "10         1979  ...                                 5.8\n",
              "11         1980  ...                                 7.1\n",
              "12         1981  ...                                 7.6\n",
              "13         1982  ...                                 9.7\n",
              "14         1983  ...                                 9.6\n",
              "15         1984  ...                                 7.5\n",
              "16         1985  ...                                 7.2\n",
              "17         1986  ...                                 7.0\n",
              "18         1987  ...                                 6.2\n",
              "19         1988  ...                                 5.5\n",
              "20         1989  ...                                 5.3\n",
              "21         1990  ...                                 5.6\n",
              "22         1991  ...                                 6.8\n",
              "23         1992  ...                                 7.5\n",
              "24         1993  ...                                 6.9\n",
              "25         1994  ...                                 6.1\n",
              "26         1995  ...                                 5.6\n",
              "27         1996  ...                                 5.4\n",
              "28         1997  ...                                 4.9\n",
              "29         1998  ...                                 4.5\n",
              "30         1999  ...                                 4.2\n",
              "31         2000  ...                                 4.0\n",
              "32         2001  ...                                 4.7\n",
              "33         2002  ...                                 5.8\n",
              "34         2003  ...                                 6.0\n",
              "35         2004  ...                                 5.5\n",
              "36         2005  ...                                 5.1\n",
              "37         2006  ...                                 4.6\n",
              "38         2007  ...                                 4.6\n",
              "39         2008  ...                                 5.8\n",
              "40         2009  ...                                 9.3\n",
              "41         2010  ...                                 9.6\n",
              "42         2011  ...                                 8.9\n",
              "43         2012  ...                                 8.1\n",
              "44         2013  ...                                 7.4\n",
              "45         2014  ...                                 6.2\n",
              "46         2015  ...                                 5.3\n",
              "47         2016  ...                                 4.9\n",
              "48         2017  ...                                 4.4\n",
              "49         2018  ...                                 3.9\n",
              "50         2019  ...                                 3.7\n",
              "51         2020  ...                                 8.1\n",
              "\n",
              "[52 rows x 14 columns]"
            ]
          },
          "metadata": {},
          "execution_count": 3
        }
      ]
    },
    {
      "cell_type": "markdown",
      "metadata": {
        "id": "tJXYtsGQbUzy"
      },
      "source": [
        "##Feature Engineering\n",
        "\n",
        "Data comes from several public sources which will be linked at the bottom of this notebook.\n",
        "\n",
        "Original Raw data consisted of:\n",
        "\n",
        "Year\n",
        "\n",
        "Average Participation (Thousands)\n",
        "\n",
        "Average Monthly Benefits Per Person (Dollars)\n",
        "\n",
        "Total Benefits (Millions)\n",
        "\n",
        "All Other Costs (Millions)\n",
        "\n",
        "Total Costs (Millions)\n",
        "\n",
        "Annual Inflation (%)\n",
        "\n",
        "Annual US Population Growth (%)\n",
        "\n",
        "Annual US Employment Rate (%)\n",
        "\n",
        "Some Features I added in that were useful are:\n",
        "\n",
        "Annualized Growth (or reduction): US Population, SNAP Program Particiaption, Admin Cost Growth, and Monthly Benefit Annual Growth. Math is pretty simple using definition of a derivative x<sub>t</sub> - x<sub>t-1</sub> over x<sub>t</sub> and plug in relevant feature data. The feature enginering was done on google sheets before dataset was ported into this notebook. \n",
        "\n",
        "Another Feature engineered for this analysis is the difference in rates between annual growth of total benefits of the program and inflation.\n",
        "\n"
      ]
    },
    {
      "cell_type": "markdown",
      "source": [
        "## Analysis of Dataset"
      ],
      "metadata": {
        "id": "zXmYCOXl485k"
      }
    },
    {
      "cell_type": "markdown",
      "metadata": {
        "id": "bIgm4JepPAWW"
      },
      "source": [
        "This next part will visualize specific features in the dataset and my analysis of the SNAP program over the lifespan of the SNAP program. In order they'll go as\n",
        "\n",
        "1. Participation Rates and Population Growth\n",
        " \n",
        "2. Participation Growth Rate and Unemployment\n",
        "\n",
        "3. Benefits, Benefits per Person, and Inflation\n",
        "\n",
        "4. Admin Costs relative to Size of Total Benefits -> event driven based on legislation \n",
        "\n",
        "5. Overview of Outliers and Patterns \n",
        "\n",
        "6. Overview of Moving Average/Rolling Window \n",
        "\n"
      ]
    },
    {
      "cell_type": "markdown",
      "metadata": {
        "id": "Bryc5j7Cm4uu"
      },
      "source": [
        "#1. Participation Rates and Population Growth"
      ]
    },
    {
      "cell_type": "code",
      "execution_count": 4,
      "metadata": {
        "colab": {
          "base_uri": "https://localhost:8080/",
          "height": 300
        },
        "id": "0oscAGyXO_yr",
        "outputId": "bb1cbc39-6c1a-4094-ec8c-4ee625c8901d"
      },
      "outputs": [
        {
          "output_type": "execute_result",
          "data": {
            "text/plain": [
              "Text(0, 0.5, 'SNAP Participation and US Population Growth')"
            ]
          },
          "metadata": {},
          "execution_count": 4
        },
        {
          "output_type": "display_data",
          "data": {
            "image/png": "[encoded data removed]",
            "text/plain": [
              "<Figure size 432x288 with 1 Axes>"
            ]
          },
          "metadata": {
            "needs_background": "light"
          }
        }
      ],
      "source": [
        "sns.lineplot(x =\"Fiscal Year\", y=\"Annual Participation Growth Rate\", data = df1)\n",
        "sns.lineplot(x =\"Fiscal Year\", y=\"Annual US Population Growth (%)\", data = df1)\n",
        "plt.ylabel(\"SNAP Participation and US Population Growth\")"
      ]
    },
    {
      "cell_type": "markdown",
      "source": [
        "Theres clearly no correlation between the 2 variables here so lets look at unemployment and SNAP participation rates instead"
      ],
      "metadata": {
        "id": "_Qn4PGIL6MVh"
      }
    },
    {
      "cell_type": "markdown",
      "source": [
        "#2. Participation Rate and Unemployment Rate"
      ],
      "metadata": {
        "id": "AAha29SYDTCt"
      }
    },
    {
      "cell_type": "code",
      "source": [
        "sns.lineplot(x =\"Fiscal Year\", y=\"Annual Participation Growth Rate\", data = df1)\n",
        "sns.lineplot(x =\"Fiscal Year\", y=\"Annual Average Unemployment Rate(%)\", data = df1)\n",
        "plt.ylabel(\"SNAP Participation and US Population Growth\")"
      ],
      "metadata": {
        "colab": {
          "base_uri": "https://localhost:8080/",
          "height": 300
        },
        "id": "_7MRX-bDDSC9",
        "outputId": "6c53c5d7-9932-4f77-8c9e-0329b3345d08"
      },
      "execution_count": 5,
      "outputs": [
        {
          "output_type": "execute_result",
          "data": {
            "text/plain": [
              "Text(0, 0.5, 'SNAP Participation and US Population Growth')"
            ]
          },
          "metadata": {},
          "execution_count": 5
        },
        {
          "output_type": "display_data",
          "data": {
            "image/png": "[encoded data removed]",
            "text/plain": [
              "<Figure size 432x288 with 1 Axes>"
            ]
          },
          "metadata": {
            "needs_background": "light"
          }
        }
      ]
    },
    {
      "cell_type": "markdown",
      "source": [
        "Differentiate the difference in measurementswhere unemploymentrate is justpercentage of population looking for work at the time (SnapShot) vs the pariticpation growth rate whih is grwoth relative to last year. The insight can be serived is the higher growth in pariticpation, the higher the level of employment is at the time. "
      ],
      "metadata": {
        "id": "ZPzoMFkO6UJL"
      }
    },
    {
      "cell_type": "markdown",
      "metadata": {
        "id": "3r_Y_anpnBAo"
      },
      "source": [
        "## 3. Benefits per Person and Inflation"
      ]
    },
    {
      "cell_type": "code",
      "execution_count": 6,
      "metadata": {
        "colab": {
          "base_uri": "https://localhost:8080/",
          "height": 327
        },
        "id": "6jkIWyGB-nYD",
        "outputId": "400e338e-82f3-47c4-ba43-f45dd51ee933"
      },
      "outputs": [
        {
          "output_type": "execute_result",
          "data": {
            "text/plain": [
              "Text(0, 0.5, 'Benefit Growth/Decay per Person vs US Annual Inflation')"
            ]
          },
          "metadata": {},
          "execution_count": 6
        },
        {
          "output_type": "display_data",
          "data": {
            "image/png": "[encoded data removed]",
            "text/plain": [
              "<Figure size 432x288 with 1 Axes>"
            ]
          },
          "metadata": {
            "needs_background": "light"
          }
        }
      ],
      "source": [
        "sns.lineplot(x =\"Fiscal Year\", y=\"Monthly Benefit Growth per Person (%)\", data = df1)\n",
        "sns.lineplot(x =\"Fiscal Year\", y=\"Annual Inflation (%)\", data = df1)\n",
        "plt.ylabel(\"Benefit Growth/Decay per Person vs US Annual Inflation\")"
      ]
    },
    {
      "cell_type": "markdown",
      "metadata": {
        "id": "So10gXTwn6Zw"
      },
      "source": [
        "#Further Analysis of Difference in growth of annual monthly benefit percentage change and annual inflation"
      ]
    },
    {
      "cell_type": "markdown",
      "metadata": {
        "id": "IS34oG7jCxEl"
      },
      "source": [
        "Some data wrangling to display the difference between benefits per person percent change year over year and inflation. Negative values on the plot mean inflation outpaces the SNAP benefits growth that year and positive values mean the opposite"
      ]
    },
    {
      "cell_type": "code",
      "execution_count": 10,
      "metadata": {
        "colab": {
          "base_uri": "https://localhost:8080/",
          "height": 572
        },
        "id": "oGzZufmpCrZQ",
        "outputId": "04ed1b92-187a-40f9-bb23-5e795aca8ffb"
      },
      "outputs": [
        {
          "output_type": "error",
          "ename": "KeyError",
          "evalue": "ignored",
          "traceback": [
            "\u001b[0;31m---------------------------------------------------------------------------\u001b[0m",
            "\u001b[0;31mKeyError\u001b[0m                                  Traceback (most recent call last)",
            "\u001b[0;32m/usr/local/lib/python3.7/dist-packages/pandas/core/indexes/base.py\u001b[0m in \u001b[0;36mget_loc\u001b[0;34m(self, key, method, tolerance)\u001b[0m\n\u001b[1;32m   2897\u001b[0m             \u001b[0;32mtry\u001b[0m\u001b[0;34m:\u001b[0m\u001b[0;34m\u001b[0m\u001b[0;34m\u001b[0m\u001b[0m\n\u001b[0;32m-> 2898\u001b[0;31m                 \u001b[0;32mreturn\u001b[0m \u001b[0mself\u001b[0m\u001b[0;34m.\u001b[0m\u001b[0m_engine\u001b[0m\u001b[0;34m.\u001b[0m\u001b[0mget_loc\u001b[0m\u001b[0;34m(\u001b[0m\u001b[0mcasted_key\u001b[0m\u001b[0;34m)\u001b[0m\u001b[0;34m\u001b[0m\u001b[0;34m\u001b[0m\u001b[0m\n\u001b[0m\u001b[1;32m   2899\u001b[0m             \u001b[0;32mexcept\u001b[0m \u001b[0mKeyError\u001b[0m \u001b[0;32mas\u001b[0m \u001b[0merr\u001b[0m\u001b[0;34m:\u001b[0m\u001b[0;34m\u001b[0m\u001b[0;34m\u001b[0m\u001b[0m\n",
            "\u001b[0;32mpandas/_libs/index.pyx\u001b[0m in \u001b[0;36mpandas._libs.index.IndexEngine.get_loc\u001b[0;34m()\u001b[0m\n",
            "\u001b[0;32mpandas/_libs/index.pyx\u001b[0m in \u001b[0;36mpandas._libs.index.IndexEngine.get_loc\u001b[0;34m()\u001b[0m\n",
            "\u001b[0;32mpandas/_libs/hashtable_class_helper.pxi\u001b[0m in \u001b[0;36mpandas._libs.hashtable.PyObjectHashTable.get_item\u001b[0;34m()\u001b[0m\n",
            "\u001b[0;32mpandas/_libs/hashtable_class_helper.pxi\u001b[0m in \u001b[0;36mpandas._libs.hashtable.PyObjectHashTable.get_item\u001b[0;34m()\u001b[0m\n",
            "\u001b[0;31mKeyError\u001b[0m: 'Monthly_Benefit_Growth_Per_Person(%)'",
            "\nThe above exception was the direct cause of the following exception:\n",
            "\u001b[0;31mKeyError\u001b[0m                                  Traceback (most recent call last)",
            "\u001b[0;32m<ipython-input-10-97735372b4b3>\u001b[0m in \u001b[0;36m<module>\u001b[0;34m()\u001b[0m\n\u001b[0;32m----> 1\u001b[0;31m \u001b[0mdf1\u001b[0m\u001b[0;34m[\u001b[0m\u001b[0;34m'Benefit_Percent_Change_and_Inflation_Difference'\u001b[0m\u001b[0;34m]\u001b[0m \u001b[0;34m=\u001b[0m \u001b[0mdf1\u001b[0m\u001b[0;34m[\u001b[0m\u001b[0;34m'Monthly_Benefit_Growth_Per_Person(%)'\u001b[0m\u001b[0;34m]\u001b[0m \u001b[0;34m-\u001b[0m \u001b[0mdf1\u001b[0m\u001b[0;34m[\u001b[0m\u001b[0;34m'Annual_Inflation(%)'\u001b[0m\u001b[0;34m]\u001b[0m\u001b[0;34m\u001b[0m\u001b[0;34m\u001b[0m\u001b[0m\n\u001b[0m\u001b[1;32m      2\u001b[0m \u001b[0;34m\u001b[0m\u001b[0m\n\u001b[1;32m      3\u001b[0m \u001b[0msns\u001b[0m\u001b[0;34m.\u001b[0m\u001b[0mlineplot\u001b[0m\u001b[0;34m(\u001b[0m\u001b[0mx\u001b[0m \u001b[0;34m=\u001b[0m\u001b[0;34m\"Fiscal_Year\"\u001b[0m\u001b[0;34m,\u001b[0m \u001b[0my\u001b[0m\u001b[0;34m=\u001b[0m\u001b[0;34m\"Benefit_Percent_Change_and_Inflation_Difference\"\u001b[0m\u001b[0;34m,\u001b[0m \u001b[0mdata\u001b[0m \u001b[0;34m=\u001b[0m \u001b[0mdf1\u001b[0m\u001b[0;34m)\u001b[0m\u001b[0;34m\u001b[0m\u001b[0;34m\u001b[0m\u001b[0m\n\u001b[1;32m      4\u001b[0m \u001b[0mplt\u001b[0m\u001b[0;34m.\u001b[0m\u001b[0mylabel\u001b[0m\u001b[0;34m(\u001b[0m\u001b[0;34m\"Annual Inflation and Benefit Growth Rate Spread\"\u001b[0m\u001b[0;34m)\u001b[0m\u001b[0;34m\u001b[0m\u001b[0;34m\u001b[0m\u001b[0m\n",
            "\u001b[0;32m/usr/local/lib/python3.7/dist-packages/pandas/core/frame.py\u001b[0m in \u001b[0;36m__getitem__\u001b[0;34m(self, key)\u001b[0m\n\u001b[1;32m   2904\u001b[0m             \u001b[0;32mif\u001b[0m \u001b[0mself\u001b[0m\u001b[0;34m.\u001b[0m\u001b[0mcolumns\u001b[0m\u001b[0;34m.\u001b[0m\u001b[0mnlevels\u001b[0m \u001b[0;34m>\u001b[0m \u001b[0;36m1\u001b[0m\u001b[0;34m:\u001b[0m\u001b[0;34m\u001b[0m\u001b[0;34m\u001b[0m\u001b[0m\n\u001b[1;32m   2905\u001b[0m                 \u001b[0;32mreturn\u001b[0m \u001b[0mself\u001b[0m\u001b[0;34m.\u001b[0m\u001b[0m_getitem_multilevel\u001b[0m\u001b[0;34m(\u001b[0m\u001b[0mkey\u001b[0m\u001b[0;34m)\u001b[0m\u001b[0;34m\u001b[0m\u001b[0;34m\u001b[0m\u001b[0m\n\u001b[0;32m-> 2906\u001b[0;31m             \u001b[0mindexer\u001b[0m \u001b[0;34m=\u001b[0m \u001b[0mself\u001b[0m\u001b[0;34m.\u001b[0m\u001b[0mcolumns\u001b[0m\u001b[0;34m.\u001b[0m\u001b[0mget_loc\u001b[0m\u001b[0;34m(\u001b[0m\u001b[0mkey\u001b[0m\u001b[0;34m)\u001b[0m\u001b[0;34m\u001b[0m\u001b[0;34m\u001b[0m\u001b[0m\n\u001b[0m\u001b[1;32m   2907\u001b[0m             \u001b[0;32mif\u001b[0m \u001b[0mis_integer\u001b[0m\u001b[0;34m(\u001b[0m\u001b[0mindexer\u001b[0m\u001b[0;34m)\u001b[0m\u001b[0;34m:\u001b[0m\u001b[0;34m\u001b[0m\u001b[0;34m\u001b[0m\u001b[0m\n\u001b[1;32m   2908\u001b[0m                 \u001b[0mindexer\u001b[0m \u001b[0;34m=\u001b[0m \u001b[0;34m[\u001b[0m\u001b[0mindexer\u001b[0m\u001b[0;34m]\u001b[0m\u001b[0;34m\u001b[0m\u001b[0;34m\u001b[0m\u001b[0m\n",
            "\u001b[0;32m/usr/local/lib/python3.7/dist-packages/pandas/core/indexes/base.py\u001b[0m in \u001b[0;36mget_loc\u001b[0;34m(self, key, method, tolerance)\u001b[0m\n\u001b[1;32m   2898\u001b[0m                 \u001b[0;32mreturn\u001b[0m \u001b[0mself\u001b[0m\u001b[0;34m.\u001b[0m\u001b[0m_engine\u001b[0m\u001b[0;34m.\u001b[0m\u001b[0mget_loc\u001b[0m\u001b[0;34m(\u001b[0m\u001b[0mcasted_key\u001b[0m\u001b[0;34m)\u001b[0m\u001b[0;34m\u001b[0m\u001b[0;34m\u001b[0m\u001b[0m\n\u001b[1;32m   2899\u001b[0m             \u001b[0;32mexcept\u001b[0m \u001b[0mKeyError\u001b[0m \u001b[0;32mas\u001b[0m \u001b[0merr\u001b[0m\u001b[0;34m:\u001b[0m\u001b[0;34m\u001b[0m\u001b[0;34m\u001b[0m\u001b[0m\n\u001b[0;32m-> 2900\u001b[0;31m                 \u001b[0;32mraise\u001b[0m \u001b[0mKeyError\u001b[0m\u001b[0;34m(\u001b[0m\u001b[0mkey\u001b[0m\u001b[0;34m)\u001b[0m \u001b[0;32mfrom\u001b[0m \u001b[0merr\u001b[0m\u001b[0;34m\u001b[0m\u001b[0;34m\u001b[0m\u001b[0m\n\u001b[0m\u001b[1;32m   2901\u001b[0m \u001b[0;34m\u001b[0m\u001b[0m\n\u001b[1;32m   2902\u001b[0m         \u001b[0;32mif\u001b[0m \u001b[0mtolerance\u001b[0m \u001b[0;32mis\u001b[0m \u001b[0;32mnot\u001b[0m \u001b[0;32mNone\u001b[0m\u001b[0;34m:\u001b[0m\u001b[0;34m\u001b[0m\u001b[0;34m\u001b[0m\u001b[0m\n",
            "\u001b[0;31mKeyError\u001b[0m: 'Monthly_Benefit_Growth_Per_Person(%)'"
          ]
        }
      ],
      "source": [
        "df1['Benefit_Percent_Change_and_Inflation_Difference'] = df1['Monthly_Benefit_Growth_Per_Person(%)'] - df1['Annual_Inflation(%)']\n",
        "\n",
        "sns.lineplot(x =\"Fiscal_Year\", y=\"Benefit_Percent_Change_and_Inflation_Difference\", data = df1)\n",
        "plt.ylabel(\"Annual Inflation and Benefit Growth Rate Spread\")"
      ]
    },
    {
      "cell_type": "code",
      "execution_count": null,
      "metadata": {
        "id": "aGfh9_6JTxI_"
      },
      "outputs": [],
      "source": [
        ""
      ]
    },
    {
      "cell_type": "markdown",
      "metadata": {
        "id": "y6YGVdUxloIk"
      },
      "source": [
        ""
      ]
    },
    {
      "cell_type": "markdown",
      "metadata": {
        "id": "ZD7xdEvqnsBX"
      },
      "source": [
        "# 3. Admin Costs relative to benefits"
      ]
    },
    {
      "cell_type": "code",
      "execution_count": 8,
      "metadata": {
        "id": "VZ4ObgDp_mm2",
        "colab": {
          "base_uri": "https://localhost:8080/",
          "height": 296
        },
        "outputId": "b431c0cd-24ed-45d1-e2df-79dd25b282b6"
      },
      "outputs": [
        {
          "output_type": "execute_result",
          "data": {
            "text/plain": [
              "Text(0, 0.5, 'Costs Growth')"
            ]
          },
          "metadata": {},
          "execution_count": 8
        },
        {
          "output_type": "display_data",
          "data": {
            "image/png": "[encoded data removed]",
            "text/plain": [
              "<Figure size 432x288 with 1 Axes>"
            ]
          },
          "metadata": {
            "needs_background": "light"
          }
        }
      ],
      "source": [
        "sns.lineplot(x =\"Fiscal Year\", y=\"Annual Admin Cost Growth (loss)\", data = df1)\n",
        "sns.lineplot(x =\"Fiscal Year\", y=\"Annual Total Benefit Growth (%)\", data = df1)\n",
        "plt.ylabel(\"Costs Growth\")"
      ]
    },
    {
      "cell_type": "markdown",
      "metadata": {
        "id": "GJOqGUFIIxh2"
      },
      "source": [
        "When Sorting out he extream values of the dataset being used. There are many extreme instances in which I'd like to go over. \n",
        "1. The genesis of Food Stamps program, as expected the program was likely little known but quickly picked up attention\n",
        "2. 2008 financial crisis\n",
        "3. The Dot Com bubble"
      ]
    },
    {
      "cell_type": "markdown",
      "metadata": {
        "id": "3lAe7EIo_NDj"
      },
      "source": [
        "Suggestion: Due to the \n",
        "\n",
        "\n"
      ]
    },
    {
      "cell_type": "markdown",
      "source": [
        "##4. Admin Costs relative to Size of Total Benefits"
      ],
      "metadata": {
        "id": "lkjmgUiwppQ_"
      }
    },
    {
      "cell_type": "code",
      "source": [
        "sns.lineplot(x =\"Fiscal Year\", y=\"All Other Costs (Millions)\", data = df1)\n",
        "sns.lineplot(x =\"Fiscal Year\", y=\"Total Benefits (Millions)\", data = df1)\n",
        "sns.lineplot(x =\"Fiscal Year\", y=\"Total Costs (Millions)\", data = df1)\n",
        "plt.ylabel(\"Costs of SNAP Program by Composition\")\n",
        "ax = plt.gca()\n",
        "ax.set_ylimit(0, 100000)"
      ],
      "metadata": {
        "id": "cZVZa1FQpo5h",
        "colab": {
          "base_uri": "https://localhost:8080/",
          "height": 463
        },
        "outputId": "13facfbc-a161-4d17-a9d0-977520ffcf4f"
      },
      "execution_count": 9,
      "outputs": [
        {
          "output_type": "error",
          "ename": "AttributeError",
          "evalue": "ignored",
          "traceback": [
            "\u001b[0;31m---------------------------------------------------------------------------\u001b[0m",
            "\u001b[0;31mAttributeError\u001b[0m                            Traceback (most recent call last)",
            "\u001b[0;32m<ipython-input-9-657226f6429d>\u001b[0m in \u001b[0;36m<module>\u001b[0;34m()\u001b[0m\n\u001b[1;32m      4\u001b[0m \u001b[0mplt\u001b[0m\u001b[0;34m.\u001b[0m\u001b[0mylabel\u001b[0m\u001b[0;34m(\u001b[0m\u001b[0;34m\"Costs of SNAP Program by Composition\"\u001b[0m\u001b[0;34m)\u001b[0m\u001b[0;34m\u001b[0m\u001b[0;34m\u001b[0m\u001b[0m\n\u001b[1;32m      5\u001b[0m \u001b[0max\u001b[0m \u001b[0;34m=\u001b[0m \u001b[0mplt\u001b[0m\u001b[0;34m.\u001b[0m\u001b[0mgca\u001b[0m\u001b[0;34m(\u001b[0m\u001b[0;34m)\u001b[0m\u001b[0;34m\u001b[0m\u001b[0;34m\u001b[0m\u001b[0m\n\u001b[0;32m----> 6\u001b[0;31m \u001b[0max\u001b[0m\u001b[0;34m.\u001b[0m\u001b[0mset_ylimit\u001b[0m\u001b[0;34m(\u001b[0m\u001b[0;36m0\u001b[0m\u001b[0;34m,\u001b[0m \u001b[0;36m100000\u001b[0m\u001b[0;34m)\u001b[0m\u001b[0;34m\u001b[0m\u001b[0;34m\u001b[0m\u001b[0m\n\u001b[0m",
            "\u001b[0;31mAttributeError\u001b[0m: 'AxesSubplot' object has no attribute 'set_ylimit'"
          ]
        },
        {
          "output_type": "display_data",
          "data": {
            "image/png": "[encoded data removed]",
            "text/plain": [
              "<Figure size 432x288 with 1 Axes>"
            ]
          },
          "metadata": {
            "needs_background": "light"
          }
        }
      ]
    },
    {
      "cell_type": "markdown",
      "source": [
        "Not the lineplot from this code is not ideal due to the automated tick setting and will be adjusted correctly in the next version. Theplats show a perfectlinear relaitonship while a uick glance at the corresponging dataset features will tell a different story."
      ],
      "metadata": {
        "id": "wTh6Nx8LQTKN"
      }
    },
    {
      "cell_type": "code",
      "execution_count": null,
      "metadata": {
        "id": "8fF5gkRwwYI-"
      },
      "outputs": [],
      "source": [
        ""
      ]
    },
    {
      "cell_type": "markdown",
      "source": [
        "The admin costs appear to be event driven, namely most spikes are due to additional legislation. "
      ],
      "metadata": {
        "id": "Ll-JzBgTp8-r"
      }
    },
    {
      "cell_type": "markdown",
      "metadata": {
        "id": "v5KctQpyp0I1"
      },
      "source": [
        "According to the USDA, the total expenses of the SNAP program is largely driven by participation in which the basic formula can be found on the website. \n",
        "\n",
        "The most recent legislation past regarding the SNAP program was passed in 2018 known as the \"Farm Bill\" or PL 115-334."
      ]
    },
    {
      "cell_type": "markdown",
      "metadata": {
        "id": "vxHoxN6WvSwg"
      },
      "source": [
        "With inflation reaching record highs this year and the stimulus money from quantitative easing done for the 2020 pandemic market crash. It is safe to assume that the costs of food will undoubtedly continue to rise. Combine these facts with how the "
      ]
    },
    {
      "cell_type": "markdown",
      "metadata": {
        "id": "vKACX2fyvqs0"
      },
      "source": [
        "#Legislation Analysis\n",
        "In the past couple of decades, reactive and not proactive. --> Have a neutral stance by "
      ]
    },
    {
      "cell_type": "markdown",
      "metadata": {
        "id": "1YQdguHwtULn"
      },
      "source": [
        "#Forcasting Future Benefits per Person using a modified linear regression#\n",
        "The \"modified\" part of linear regression is the use of data augmentation to increase the amount of data points wihch in theory should make the regression model more robust. "
      ]
    },
    {
      "cell_type": "code",
      "execution_count": 11,
      "metadata": {
        "id": "Mg6g4AeOJI2F"
      },
      "outputs": [],
      "source": [
        "#Importing relevant packages to build ML model and splitting the data into testing, validation, and testing for traiing said models\n",
        "import os\n",
        "import datetime\n",
        "\n",
        "import IPython\n",
        "import IPython.display\n",
        "import matplotlib as mpl\n",
        "import tensorflow as tf\n",
        "\n",
        "column_indices = {name: i for i, name in enumerate(df1.columns)}\n",
        "\n",
        "n = len(df1)\n",
        "train_df = df1[0:int(n*0.7)]\n",
        "val_df = df1[int(n*0.7):int(n*0.9)]\n",
        "test_df = df1[int(n*0.9):]\n",
        "\n",
        "num_features = df1.shape[1]"
      ]
    },
    {
      "cell_type": "code",
      "execution_count": 12,
      "metadata": {
        "id": "kmIFtBOdn9XZ"
      },
      "outputs": [],
      "source": [
        "#Normalization of data where we scale the data accordingly so the Neural Network we build doesn't lose its mind when it trains on data of different magnitudes. \n",
        "#Working with annual growth rate percentages and then using raw data without it having some sort of scale without a direction will make it hard for the Neural Network to be precise in predictions. \n",
        "train_mean = train_df.mean()\n",
        "train_std = train_df.std()\n",
        "\n",
        "train_df = (train_df - train_mean) / train_std\n",
        "val_df = (val_df - train_mean) / train_std\n",
        "test_df = (test_df - train_mean) / train_std"
      ]
    },
    {
      "cell_type": "code",
      "execution_count": 13,
      "metadata": {
        "colab": {
          "base_uri": "https://localhost:8080/",
          "height": 451
        },
        "id": "BGzN1Kagn8my",
        "outputId": "50fd6b03-5d0e-41cd-a144-6c18176ddce8"
      },
      "outputs": [
        {
          "output_type": "error",
          "ename": "TypeError",
          "evalue": "ignored",
          "traceback": [
            "\u001b[0;31m---------------------------------------------------------------------------\u001b[0m",
            "\u001b[0;31mTypeError\u001b[0m                                 Traceback (most recent call last)",
            "\u001b[0;32m<ipython-input-13-cdbdda1f7075>\u001b[0m in \u001b[0;36m<module>\u001b[0;34m()\u001b[0m\n\u001b[1;32m      2\u001b[0m \u001b[0mdf_std\u001b[0m \u001b[0;34m=\u001b[0m \u001b[0mdf_std\u001b[0m\u001b[0;34m.\u001b[0m\u001b[0mmelt\u001b[0m\u001b[0;34m(\u001b[0m\u001b[0mvar_name\u001b[0m\u001b[0;34m=\u001b[0m\u001b[0;34m'Column'\u001b[0m\u001b[0;34m,\u001b[0m \u001b[0mvalue_name\u001b[0m\u001b[0;34m=\u001b[0m\u001b[0;34m'Normalized'\u001b[0m\u001b[0;34m)\u001b[0m\u001b[0;34m\u001b[0m\u001b[0;34m\u001b[0m\u001b[0m\n\u001b[1;32m      3\u001b[0m \u001b[0mplt\u001b[0m\u001b[0;34m.\u001b[0m\u001b[0mfigure\u001b[0m\u001b[0;34m(\u001b[0m\u001b[0mfigsize\u001b[0m\u001b[0;34m=\u001b[0m\u001b[0;34m(\u001b[0m\u001b[0;36m12\u001b[0m\u001b[0;34m,\u001b[0m \u001b[0;36m6\u001b[0m\u001b[0;34m)\u001b[0m\u001b[0;34m)\u001b[0m\u001b[0;34m\u001b[0m\u001b[0;34m\u001b[0m\u001b[0m\n\u001b[0;32m----> 4\u001b[0;31m \u001b[0max\u001b[0m \u001b[0;34m=\u001b[0m \u001b[0msns\u001b[0m\u001b[0;34m.\u001b[0m\u001b[0mviolinplot\u001b[0m\u001b[0;34m(\u001b[0m\u001b[0mx\u001b[0m\u001b[0;34m=\u001b[0m\u001b[0;34m'Column'\u001b[0m\u001b[0;34m,\u001b[0m \u001b[0my\u001b[0m\u001b[0;34m=\u001b[0m\u001b[0;34m'Normalized'\u001b[0m\u001b[0;34m,\u001b[0m \u001b[0mdata\u001b[0m\u001b[0;34m=\u001b[0m\u001b[0mdf_std\u001b[0m\u001b[0;34m)\u001b[0m\u001b[0;34m\u001b[0m\u001b[0;34m\u001b[0m\u001b[0m\n\u001b[0m\u001b[1;32m      5\u001b[0m \u001b[0m_\u001b[0m \u001b[0;34m=\u001b[0m \u001b[0max\u001b[0m\u001b[0;34m.\u001b[0m\u001b[0mset_xticklabels\u001b[0m\u001b[0;34m(\u001b[0m\u001b[0mdf\u001b[0m\u001b[0;34m.\u001b[0m\u001b[0mkeys\u001b[0m\u001b[0;34m(\u001b[0m\u001b[0;34m)\u001b[0m\u001b[0;34m,\u001b[0m \u001b[0mrotation\u001b[0m\u001b[0;34m=\u001b[0m\u001b[0;36m90\u001b[0m\u001b[0;34m)\u001b[0m\u001b[0;34m\u001b[0m\u001b[0;34m\u001b[0m\u001b[0m\n",
            "\u001b[0;32m/usr/local/lib/python3.7/dist-packages/seaborn/_decorators.py\u001b[0m in \u001b[0;36minner_f\u001b[0;34m(*args, **kwargs)\u001b[0m\n\u001b[1;32m     44\u001b[0m             )\n\u001b[1;32m     45\u001b[0m         \u001b[0mkwargs\u001b[0m\u001b[0;34m.\u001b[0m\u001b[0mupdate\u001b[0m\u001b[0;34m(\u001b[0m\u001b[0;34m{\u001b[0m\u001b[0mk\u001b[0m\u001b[0;34m:\u001b[0m \u001b[0marg\u001b[0m \u001b[0;32mfor\u001b[0m \u001b[0mk\u001b[0m\u001b[0;34m,\u001b[0m \u001b[0marg\u001b[0m \u001b[0;32min\u001b[0m \u001b[0mzip\u001b[0m\u001b[0;34m(\u001b[0m\u001b[0msig\u001b[0m\u001b[0;34m.\u001b[0m\u001b[0mparameters\u001b[0m\u001b[0;34m,\u001b[0m \u001b[0margs\u001b[0m\u001b[0;34m)\u001b[0m\u001b[0;34m}\u001b[0m\u001b[0;34m)\u001b[0m\u001b[0;34m\u001b[0m\u001b[0;34m\u001b[0m\u001b[0m\n\u001b[0;32m---> 46\u001b[0;31m         \u001b[0;32mreturn\u001b[0m \u001b[0mf\u001b[0m\u001b[0;34m(\u001b[0m\u001b[0;34m**\u001b[0m\u001b[0mkwargs\u001b[0m\u001b[0;34m)\u001b[0m\u001b[0;34m\u001b[0m\u001b[0;34m\u001b[0m\u001b[0m\n\u001b[0m\u001b[1;32m     47\u001b[0m     \u001b[0;32mreturn\u001b[0m \u001b[0minner_f\u001b[0m\u001b[0;34m\u001b[0m\u001b[0;34m\u001b[0m\u001b[0m\n\u001b[1;32m     48\u001b[0m \u001b[0;34m\u001b[0m\u001b[0m\n",
            "\u001b[0;32m/usr/local/lib/python3.7/dist-packages/seaborn/categorical.py\u001b[0m in \u001b[0;36mviolinplot\u001b[0;34m(x, y, hue, data, order, hue_order, bw, cut, scale, scale_hue, gridsize, width, inner, split, dodge, orient, linewidth, color, palette, saturation, ax, **kwargs)\u001b[0m\n\u001b[1;32m   2401\u001b[0m                              \u001b[0mbw\u001b[0m\u001b[0;34m,\u001b[0m \u001b[0mcut\u001b[0m\u001b[0;34m,\u001b[0m \u001b[0mscale\u001b[0m\u001b[0;34m,\u001b[0m \u001b[0mscale_hue\u001b[0m\u001b[0;34m,\u001b[0m \u001b[0mgridsize\u001b[0m\u001b[0;34m,\u001b[0m\u001b[0;34m\u001b[0m\u001b[0;34m\u001b[0m\u001b[0m\n\u001b[1;32m   2402\u001b[0m                              \u001b[0mwidth\u001b[0m\u001b[0;34m,\u001b[0m \u001b[0minner\u001b[0m\u001b[0;34m,\u001b[0m \u001b[0msplit\u001b[0m\u001b[0;34m,\u001b[0m \u001b[0mdodge\u001b[0m\u001b[0;34m,\u001b[0m \u001b[0morient\u001b[0m\u001b[0;34m,\u001b[0m \u001b[0mlinewidth\u001b[0m\u001b[0;34m,\u001b[0m\u001b[0;34m\u001b[0m\u001b[0;34m\u001b[0m\u001b[0m\n\u001b[0;32m-> 2403\u001b[0;31m                              color, palette, saturation)\n\u001b[0m\u001b[1;32m   2404\u001b[0m \u001b[0;34m\u001b[0m\u001b[0m\n\u001b[1;32m   2405\u001b[0m     \u001b[0;32mif\u001b[0m \u001b[0max\u001b[0m \u001b[0;32mis\u001b[0m \u001b[0;32mNone\u001b[0m\u001b[0;34m:\u001b[0m\u001b[0;34m\u001b[0m\u001b[0;34m\u001b[0m\u001b[0m\n",
            "\u001b[0;32m/usr/local/lib/python3.7/dist-packages/seaborn/categorical.py\u001b[0m in \u001b[0;36m__init__\u001b[0;34m(self, x, y, hue, data, order, hue_order, bw, cut, scale, scale_hue, gridsize, width, inner, split, dodge, orient, linewidth, color, palette, saturation)\u001b[0m\n\u001b[1;32m    522\u001b[0m         \u001b[0mself\u001b[0m\u001b[0;34m.\u001b[0m\u001b[0mestablish_variables\u001b[0m\u001b[0;34m(\u001b[0m\u001b[0mx\u001b[0m\u001b[0;34m,\u001b[0m \u001b[0my\u001b[0m\u001b[0;34m,\u001b[0m \u001b[0mhue\u001b[0m\u001b[0;34m,\u001b[0m \u001b[0mdata\u001b[0m\u001b[0;34m,\u001b[0m \u001b[0morient\u001b[0m\u001b[0;34m,\u001b[0m \u001b[0morder\u001b[0m\u001b[0;34m,\u001b[0m \u001b[0mhue_order\u001b[0m\u001b[0;34m)\u001b[0m\u001b[0;34m\u001b[0m\u001b[0;34m\u001b[0m\u001b[0m\n\u001b[1;32m    523\u001b[0m         \u001b[0mself\u001b[0m\u001b[0;34m.\u001b[0m\u001b[0mestablish_colors\u001b[0m\u001b[0;34m(\u001b[0m\u001b[0mcolor\u001b[0m\u001b[0;34m,\u001b[0m \u001b[0mpalette\u001b[0m\u001b[0;34m,\u001b[0m \u001b[0msaturation\u001b[0m\u001b[0;34m)\u001b[0m\u001b[0;34m\u001b[0m\u001b[0;34m\u001b[0m\u001b[0m\n\u001b[0;32m--> 524\u001b[0;31m         \u001b[0mself\u001b[0m\u001b[0;34m.\u001b[0m\u001b[0mestimate_densities\u001b[0m\u001b[0;34m(\u001b[0m\u001b[0mbw\u001b[0m\u001b[0;34m,\u001b[0m \u001b[0mcut\u001b[0m\u001b[0;34m,\u001b[0m \u001b[0mscale\u001b[0m\u001b[0;34m,\u001b[0m \u001b[0mscale_hue\u001b[0m\u001b[0;34m,\u001b[0m \u001b[0mgridsize\u001b[0m\u001b[0;34m)\u001b[0m\u001b[0;34m\u001b[0m\u001b[0;34m\u001b[0m\u001b[0m\n\u001b[0m\u001b[1;32m    525\u001b[0m \u001b[0;34m\u001b[0m\u001b[0m\n\u001b[1;32m    526\u001b[0m         \u001b[0mself\u001b[0m\u001b[0;34m.\u001b[0m\u001b[0mgridsize\u001b[0m \u001b[0;34m=\u001b[0m \u001b[0mgridsize\u001b[0m\u001b[0;34m\u001b[0m\u001b[0;34m\u001b[0m\u001b[0m\n",
            "\u001b[0;32m/usr/local/lib/python3.7/dist-packages/seaborn/categorical.py\u001b[0m in \u001b[0;36mestimate_densities\u001b[0;34m(self, bw, cut, scale, scale_hue, gridsize)\u001b[0m\n\u001b[1;32m    588\u001b[0m \u001b[0;34m\u001b[0m\u001b[0m\n\u001b[1;32m    589\u001b[0m                 \u001b[0;31m# Fit the KDE and get the used bandwidth size\u001b[0m\u001b[0;34m\u001b[0m\u001b[0;34m\u001b[0m\u001b[0;34m\u001b[0m\u001b[0m\n\u001b[0;32m--> 590\u001b[0;31m                 \u001b[0mkde\u001b[0m\u001b[0;34m,\u001b[0m \u001b[0mbw_used\u001b[0m \u001b[0;34m=\u001b[0m \u001b[0mself\u001b[0m\u001b[0;34m.\u001b[0m\u001b[0mfit_kde\u001b[0m\u001b[0;34m(\u001b[0m\u001b[0mkde_data\u001b[0m\u001b[0;34m,\u001b[0m \u001b[0mbw\u001b[0m\u001b[0;34m)\u001b[0m\u001b[0;34m\u001b[0m\u001b[0;34m\u001b[0m\u001b[0m\n\u001b[0m\u001b[1;32m    591\u001b[0m \u001b[0;34m\u001b[0m\u001b[0m\n\u001b[1;32m    592\u001b[0m                 \u001b[0;31m# Determine the support grid and get the density over it\u001b[0m\u001b[0;34m\u001b[0m\u001b[0;34m\u001b[0m\u001b[0;34m\u001b[0m\u001b[0m\n",
            "\u001b[0;32m/usr/local/lib/python3.7/dist-packages/seaborn/categorical.py\u001b[0m in \u001b[0;36mfit_kde\u001b[0;34m(self, x, bw)\u001b[0m\n\u001b[1;32m    673\u001b[0m     \u001b[0;32mdef\u001b[0m \u001b[0mfit_kde\u001b[0m\u001b[0;34m(\u001b[0m\u001b[0mself\u001b[0m\u001b[0;34m,\u001b[0m \u001b[0mx\u001b[0m\u001b[0;34m,\u001b[0m \u001b[0mbw\u001b[0m\u001b[0;34m)\u001b[0m\u001b[0;34m:\u001b[0m\u001b[0;34m\u001b[0m\u001b[0;34m\u001b[0m\u001b[0m\n\u001b[1;32m    674\u001b[0m         \u001b[0;34m\"\"\"Estimate a KDE for a vector of data with flexible bandwidth.\"\"\"\u001b[0m\u001b[0;34m\u001b[0m\u001b[0;34m\u001b[0m\u001b[0m\n\u001b[0;32m--> 675\u001b[0;31m         \u001b[0mkde\u001b[0m \u001b[0;34m=\u001b[0m \u001b[0mstats\u001b[0m\u001b[0;34m.\u001b[0m\u001b[0mgaussian_kde\u001b[0m\u001b[0;34m(\u001b[0m\u001b[0mx\u001b[0m\u001b[0;34m,\u001b[0m \u001b[0mbw\u001b[0m\u001b[0;34m)\u001b[0m\u001b[0;34m\u001b[0m\u001b[0;34m\u001b[0m\u001b[0m\n\u001b[0m\u001b[1;32m    676\u001b[0m \u001b[0;34m\u001b[0m\u001b[0m\n\u001b[1;32m    677\u001b[0m         \u001b[0;31m# Extract the numeric bandwidth from the KDE object\u001b[0m\u001b[0;34m\u001b[0m\u001b[0;34m\u001b[0m\u001b[0;34m\u001b[0m\u001b[0m\n",
            "\u001b[0;32m/usr/local/lib/python3.7/dist-packages/scipy/stats/kde.py\u001b[0m in \u001b[0;36m__init__\u001b[0;34m(self, dataset, bw_method, weights)\u001b[0m\n\u001b[1;32m    207\u001b[0m             \u001b[0mself\u001b[0m\u001b[0;34m.\u001b[0m\u001b[0m_neff\u001b[0m \u001b[0;34m=\u001b[0m \u001b[0;36m1\u001b[0m\u001b[0;34m/\u001b[0m\u001b[0msum\u001b[0m\u001b[0;34m(\u001b[0m\u001b[0mself\u001b[0m\u001b[0;34m.\u001b[0m\u001b[0m_weights\u001b[0m\u001b[0;34m**\u001b[0m\u001b[0;36m2\u001b[0m\u001b[0;34m)\u001b[0m\u001b[0;34m\u001b[0m\u001b[0;34m\u001b[0m\u001b[0m\n\u001b[1;32m    208\u001b[0m \u001b[0;34m\u001b[0m\u001b[0m\n\u001b[0;32m--> 209\u001b[0;31m         \u001b[0mself\u001b[0m\u001b[0;34m.\u001b[0m\u001b[0mset_bandwidth\u001b[0m\u001b[0;34m(\u001b[0m\u001b[0mbw_method\u001b[0m\u001b[0;34m=\u001b[0m\u001b[0mbw_method\u001b[0m\u001b[0;34m)\u001b[0m\u001b[0;34m\u001b[0m\u001b[0;34m\u001b[0m\u001b[0m\n\u001b[0m\u001b[1;32m    210\u001b[0m \u001b[0;34m\u001b[0m\u001b[0m\n\u001b[1;32m    211\u001b[0m     \u001b[0;32mdef\u001b[0m \u001b[0mevaluate\u001b[0m\u001b[0;34m(\u001b[0m\u001b[0mself\u001b[0m\u001b[0;34m,\u001b[0m \u001b[0mpoints\u001b[0m\u001b[0;34m)\u001b[0m\u001b[0;34m:\u001b[0m\u001b[0;34m\u001b[0m\u001b[0;34m\u001b[0m\u001b[0m\n",
            "\u001b[0;32m/usr/local/lib/python3.7/dist-packages/scipy/stats/kde.py\u001b[0m in \u001b[0;36mset_bandwidth\u001b[0;34m(self, bw_method)\u001b[0m\n\u001b[1;32m    563\u001b[0m             \u001b[0;32mraise\u001b[0m \u001b[0mValueError\u001b[0m\u001b[0;34m(\u001b[0m\u001b[0mmsg\u001b[0m\u001b[0;34m)\u001b[0m\u001b[0;34m\u001b[0m\u001b[0;34m\u001b[0m\u001b[0m\n\u001b[1;32m    564\u001b[0m \u001b[0;34m\u001b[0m\u001b[0m\n\u001b[0;32m--> 565\u001b[0;31m         \u001b[0mself\u001b[0m\u001b[0;34m.\u001b[0m\u001b[0m_compute_covariance\u001b[0m\u001b[0;34m(\u001b[0m\u001b[0;34m)\u001b[0m\u001b[0;34m\u001b[0m\u001b[0;34m\u001b[0m\u001b[0m\n\u001b[0m\u001b[1;32m    566\u001b[0m \u001b[0;34m\u001b[0m\u001b[0m\n\u001b[1;32m    567\u001b[0m     \u001b[0;32mdef\u001b[0m \u001b[0m_compute_covariance\u001b[0m\u001b[0;34m(\u001b[0m\u001b[0mself\u001b[0m\u001b[0;34m)\u001b[0m\u001b[0;34m:\u001b[0m\u001b[0;34m\u001b[0m\u001b[0;34m\u001b[0m\u001b[0m\n",
            "\u001b[0;32m/usr/local/lib/python3.7/dist-packages/scipy/stats/kde.py\u001b[0m in \u001b[0;36m_compute_covariance\u001b[0;34m(self)\u001b[0m\n\u001b[1;32m    574\u001b[0m             self._data_covariance = atleast_2d(cov(self.dataset, rowvar=1,\n\u001b[1;32m    575\u001b[0m                                                \u001b[0mbias\u001b[0m\u001b[0;34m=\u001b[0m\u001b[0;32mFalse\u001b[0m\u001b[0;34m,\u001b[0m\u001b[0;34m\u001b[0m\u001b[0;34m\u001b[0m\u001b[0m\n\u001b[0;32m--> 576\u001b[0;31m                                                aweights=self.weights))\n\u001b[0m\u001b[1;32m    577\u001b[0m             \u001b[0mself\u001b[0m\u001b[0;34m.\u001b[0m\u001b[0m_data_inv_cov\u001b[0m \u001b[0;34m=\u001b[0m \u001b[0mlinalg\u001b[0m\u001b[0;34m.\u001b[0m\u001b[0minv\u001b[0m\u001b[0;34m(\u001b[0m\u001b[0mself\u001b[0m\u001b[0;34m.\u001b[0m\u001b[0m_data_covariance\u001b[0m\u001b[0;34m)\u001b[0m\u001b[0;34m\u001b[0m\u001b[0;34m\u001b[0m\u001b[0m\n\u001b[1;32m    578\u001b[0m \u001b[0;34m\u001b[0m\u001b[0m\n",
            "\u001b[0;32m<__array_function__ internals>\u001b[0m in \u001b[0;36mcov\u001b[0;34m(*args, **kwargs)\u001b[0m\n",
            "\u001b[0;32m/usr/local/lib/python3.7/dist-packages/numpy/lib/function_base.py\u001b[0m in \u001b[0;36mcov\u001b[0;34m(m, y, rowvar, bias, ddof, fweights, aweights)\u001b[0m\n\u001b[1;32m   2454\u001b[0m             \u001b[0mw\u001b[0m \u001b[0;34m*=\u001b[0m \u001b[0maweights\u001b[0m\u001b[0;34m\u001b[0m\u001b[0;34m\u001b[0m\u001b[0m\n\u001b[1;32m   2455\u001b[0m \u001b[0;34m\u001b[0m\u001b[0m\n\u001b[0;32m-> 2456\u001b[0;31m     \u001b[0mavg\u001b[0m\u001b[0;34m,\u001b[0m \u001b[0mw_sum\u001b[0m \u001b[0;34m=\u001b[0m \u001b[0maverage\u001b[0m\u001b[0;34m(\u001b[0m\u001b[0mX\u001b[0m\u001b[0;34m,\u001b[0m \u001b[0maxis\u001b[0m\u001b[0;34m=\u001b[0m\u001b[0;36m1\u001b[0m\u001b[0;34m,\u001b[0m \u001b[0mweights\u001b[0m\u001b[0;34m=\u001b[0m\u001b[0mw\u001b[0m\u001b[0;34m,\u001b[0m \u001b[0mreturned\u001b[0m\u001b[0;34m=\u001b[0m\u001b[0;32mTrue\u001b[0m\u001b[0;34m)\u001b[0m\u001b[0;34m\u001b[0m\u001b[0;34m\u001b[0m\u001b[0m\n\u001b[0m\u001b[1;32m   2457\u001b[0m     \u001b[0mw_sum\u001b[0m \u001b[0;34m=\u001b[0m \u001b[0mw_sum\u001b[0m\u001b[0;34m[\u001b[0m\u001b[0;36m0\u001b[0m\u001b[0;34m]\u001b[0m\u001b[0;34m\u001b[0m\u001b[0;34m\u001b[0m\u001b[0m\n\u001b[1;32m   2458\u001b[0m \u001b[0;34m\u001b[0m\u001b[0m\n",
            "\u001b[0;32m<__array_function__ internals>\u001b[0m in \u001b[0;36maverage\u001b[0;34m(*args, **kwargs)\u001b[0m\n",
            "\u001b[0;32m/usr/local/lib/python3.7/dist-packages/numpy/lib/function_base.py\u001b[0m in \u001b[0;36maverage\u001b[0;34m(a, axis, weights, returned)\u001b[0m\n\u001b[1;32m    405\u001b[0m             \u001b[0mwgt\u001b[0m \u001b[0;34m=\u001b[0m \u001b[0mwgt\u001b[0m\u001b[0;34m.\u001b[0m\u001b[0mswapaxes\u001b[0m\u001b[0;34m(\u001b[0m\u001b[0;34m-\u001b[0m\u001b[0;36m1\u001b[0m\u001b[0;34m,\u001b[0m \u001b[0maxis\u001b[0m\u001b[0;34m)\u001b[0m\u001b[0;34m\u001b[0m\u001b[0;34m\u001b[0m\u001b[0m\n\u001b[1;32m    406\u001b[0m \u001b[0;34m\u001b[0m\u001b[0m\n\u001b[0;32m--> 407\u001b[0;31m         \u001b[0mscl\u001b[0m \u001b[0;34m=\u001b[0m \u001b[0mwgt\u001b[0m\u001b[0;34m.\u001b[0m\u001b[0msum\u001b[0m\u001b[0;34m(\u001b[0m\u001b[0maxis\u001b[0m\u001b[0;34m=\u001b[0m\u001b[0maxis\u001b[0m\u001b[0;34m,\u001b[0m \u001b[0mdtype\u001b[0m\u001b[0;34m=\u001b[0m\u001b[0mresult_dtype\u001b[0m\u001b[0;34m)\u001b[0m\u001b[0;34m\u001b[0m\u001b[0;34m\u001b[0m\u001b[0m\n\u001b[0m\u001b[1;32m    408\u001b[0m         \u001b[0;32mif\u001b[0m \u001b[0mnp\u001b[0m\u001b[0;34m.\u001b[0m\u001b[0many\u001b[0m\u001b[0;34m(\u001b[0m\u001b[0mscl\u001b[0m \u001b[0;34m==\u001b[0m \u001b[0;36m0.0\u001b[0m\u001b[0;34m)\u001b[0m\u001b[0;34m:\u001b[0m\u001b[0;34m\u001b[0m\u001b[0;34m\u001b[0m\u001b[0m\n\u001b[1;32m    409\u001b[0m             raise ZeroDivisionError(\n",
            "\u001b[0;32m/usr/local/lib/python3.7/dist-packages/numpy/core/_methods.py\u001b[0m in \u001b[0;36m_sum\u001b[0;34m(a, axis, dtype, out, keepdims, initial, where)\u001b[0m\n\u001b[1;32m     45\u001b[0m def _sum(a, axis=None, dtype=None, out=None, keepdims=False,\n\u001b[1;32m     46\u001b[0m          initial=_NoValue, where=True):\n\u001b[0;32m---> 47\u001b[0;31m     \u001b[0;32mreturn\u001b[0m \u001b[0mumr_sum\u001b[0m\u001b[0;34m(\u001b[0m\u001b[0ma\u001b[0m\u001b[0;34m,\u001b[0m \u001b[0maxis\u001b[0m\u001b[0;34m,\u001b[0m \u001b[0mdtype\u001b[0m\u001b[0;34m,\u001b[0m \u001b[0mout\u001b[0m\u001b[0;34m,\u001b[0m \u001b[0mkeepdims\u001b[0m\u001b[0;34m,\u001b[0m \u001b[0minitial\u001b[0m\u001b[0;34m,\u001b[0m \u001b[0mwhere\u001b[0m\u001b[0;34m)\u001b[0m\u001b[0;34m\u001b[0m\u001b[0;34m\u001b[0m\u001b[0m\n\u001b[0m\u001b[1;32m     48\u001b[0m \u001b[0;34m\u001b[0m\u001b[0m\n\u001b[1;32m     49\u001b[0m def _prod(a, axis=None, dtype=None, out=None, keepdims=False,\n",
            "\u001b[0;31mTypeError\u001b[0m: No loop matching the specified signature and casting was found for ufunc add"
          ]
        },
        {
          "output_type": "display_data",
          "data": {
            "text/plain": [
              "<Figure size 864x432 with 0 Axes>"
            ]
          },
          "metadata": {}
        }
      ],
      "source": [
        "df_std = (df1 - train_mean) / train_std\n",
        "df_std = df_std.melt(var_name='Column', value_name='Normalized')\n",
        "plt.figure(figsize=(12, 6))\n",
        "ax = sns.violinplot(x='Column', y='Normalized', data=df_std)\n",
        "_ = ax.set_xticklabels(df.keys(), rotation=90)"
      ]
    },
    {
      "cell_type": "markdown",
      "source": [
        ""
      ],
      "metadata": {
        "id": "JzrfrHZJQvh0"
      }
    },
    {
      "cell_type": "markdown",
      "source": [
        "There was an error in the code stating that not all of the data was the float type. The column associated with the total participation were ported as thestrign type due to the commas i nthe original data. I will run a for loop to remove the comma then convert the data into the string type."
      ],
      "metadata": {
        "id": "SFcExPoi91vr"
      }
    },
    {
      "cell_type": "code",
      "source": [
        ""
      ],
      "metadata": {
        "id": "ZYbXgWm6Qy5V"
      },
      "execution_count": null,
      "outputs": []
    },
    {
      "cell_type": "markdown",
      "source": [
        "##Time Series Decomp"
      ],
      "metadata": {
        "id": "UeRBeMXP9nEl"
      }
    },
    {
      "cell_type": "markdown",
      "metadata": {
        "id": "OOLONSWA9Hk4"
      },
      "source": [
        "#Limitations of Analysis and ideas to for further research and analysis:\n",
        "\n",
        "I did not use state, country, or city data. So my conclusion can usually be accepted on average conditions. In specific circumstances such as someone living in NYC. A deeper analysis will be needed as there are state level and city level programs that also contribute benefits to those who are elegible.\n",
        "\n",
        "The use of annual data and not monthly data is also a limitation\n",
        "\n",
        "Aalysis does not consider alternatives to SNAP benefits of SNAP elgible population such as food banks\n",
        "\n",
        "I used CPI (consumer price index) to as the baseline for inflation, one can argue that cost of food is only a component in CPI computation so a more \"food-centric\" metric can be used. Further researchcan be done, but CPI is a good benchmark as the cost of food is correlated with CPI and CPI does contain the inptus to food products that will rise in price which gives a look ahead on future food costs (e.g. costs of trucks go up --> higher shipping costs --> higher food prices)\n"
      ]
    },
    {
      "cell_type": "markdown",
      "metadata": {
        "id": "DefROSLac6-w"
      },
      "source": [
        "Findings After a look at the data major changes to any of the growth rates of any of the features we have are event based based on whatever legislation is passed as well as macro events.\n",
        "\n",
        "Hypothesis: After anlaysis there is very little consistency and weak correlations  between snap benefit growth, inflation, and other metrics. So the changes are event-driven. Recent event includes this. The SNAP program finally had a recent law giving USDA/SNAP admin some authority to change policies in how benefits are determined in 2018. Good thing too since the shutdown from COVID-19 resulted in a large spike. However there appears to be a \n",
        "\n",
        "Recent spikes of inflation this past year, the weakening dollar, rise of crypto, as well as other factors make it so final food product prices are in an environment that are very volatile. If the hypothesis holds true it is neccessary to link benefits to a price index to ensure the most vulnerable people in this country are able to maintain a healthy diet and not starve (make previous part more \"professional\"). As it takes the USDA years to gather data and do studies to actually make tangible actions, events that can affect food prices heavily such as the current pandemic may require too much time spent on the bureaucracy of the getting new figures in place and may result in complications due to inadequate nutriton intake in periods of high inflation that are easily preventable given the status of the US. \n",
        "#find a way to link current USDA food cost model to this portion\n",
        "\n",
        "This proposal does have it's weaknesses ..."
      ]
    },
    {
      "cell_type": "markdown",
      "metadata": {
        "id": "R7rw7i8Tc38r"
      },
      "source": [
        "References:\n",
        "\n",
        "https://arxiv.org/pdf/2004.08780v1.pdf - provided the code to you data augmentation for time series in order to have more data in the model \n",
        "\n",
        "https://arxiv.org/pdf/2002.12478v3.pdf - the link where the python package used to augment data\n",
        "\n",
        "https://www.fns.usda.gov/pl-115-334 - link to the most recent law passed regarding the SNAP program (refer to section 4001 or page 136)\n",
        "\n",
        "https://www.ncbi.nlm.nih.gov/books/NBK206907/ - Gives historical summary of the SNAP program and helps identify events that are very likely to be causes of spikes within teh data set\n",
        "\n",
        "\n",
        "\n",
        "---\n",
        "\n",
        "\n",
        "Data Sources:\n",
        "\n",
        "https://www.fns.usda.gov/pd/supplemental-nutrition-assistance-program-snap - USDA who administers the SNAP \n",
        "\n",
        "https://www.macrotrends.net/countries/USA/united-states/inflation-rate-cpi - US annual inflation data according to the World Bank\n",
        "\n",
        "https://www.macrotrends.net/countries/USA/united-states/population-growth-rate - Estimated Annual US Population Growth\n",
        "\n",
        "The compiled version of the data above that was imported on this notebook is through my Kaggle account and linked here -\n",
        "---\n",
        "\n",
        "\n"
      ]
    }
  ],
  "metadata": {
    "colab": {
      "name": "Times Series analysis of SNAP data and Macro factors in the US",
      "provenance": [],
      "mount_file_id": "1Ztw2h6XGNEsimpy8aGj77GazPtxnAk6l",
      "authorship_tag": "ABX9TyMDzxbdYR03TeRkQ1wXAbml",
      "include_colab_link": true
    },
    "kernelspec": {
      "display_name": "Python 3",
      "name": "python3"
    },
    "language_info": {
      "name": "python"
    }
  },
  "nbformat": 4,
  "nbformat_minor": 0
}