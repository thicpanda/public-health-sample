{
  "nbformat": 4,
  "nbformat_minor": 0,
  "metadata": {
    "colab": {
      "name": "Times Series analysis of SNAP data and Macro factors in the US",
      "provenance": [],
      "authorship_tag": "ABX9TyOQKXZIy0Zw1EvLRVGK4tBR",
      "include_colab_link": true
    },
    "kernelspec": {
      "name": "python3",
      "display_name": "Python 3"
    },
    "language_info": {
      "name": "python"
    }
  },
  "cells": [
    {
      "cell_type": "markdown",
      "metadata": {
        "id": "view-in-github",
        "colab_type": "text"
      },
      "source": [
        "<a href=\"https://colab.research.google.com/github/thicpanda/public-health-sample/blob/main/Times_Series_analysis_of_SNAP_data_and_Macro_factors_in_the_US.ipynb\" target=\"_parent\"><img src=\"https://colab.research.google.com/assets/colab-badge.svg\" alt=\"Open In Colab\"/></a>"
      ]
    },
    {
      "cell_type": "markdown",
      "metadata": {
        "id": "roPPwc54hvAK"
      },
      "source": [
        "This notebook will showcase an analysis of SNAP data provided by the USDA while also adding other data sources (primarily macro economic data). I will also showcase some ML techniques applied to this dataset as big data predictive analytics is not widely adopted in public health. This analysis will be relevant as it gives a foothold of what is currently goingon within the SANP program and how it has been adminstrated in the past. SNAP is an important piece of the food syste mwe have the US as it is a means for thoes with food insecurity due to financial difficulties access to food. If the program doesn't operate as intended those with food insecurites are vulnerable to dietary deficient medical conditions that are easily preventable. \n",
        "\n",
        "The dataset used is available on my Github at https://github.com/thicpanda/public-health-sample and will be linked in the data sources at teh bottom of this python notebook. \n",
        "\n",
        "This code was written on Google Colab"
      ]
    },
    {
      "cell_type": "markdown",
      "metadata": {
        "id": "dGO491_RaJNx"
      },
      "source": [
        "Relevant Terms used - I will be using terms from several diffferent fields that are esoteric and will try to keep track of the more technical or not common terms here.\n",
        "\n"
      ]
    },
    {
      "cell_type": "markdown",
      "metadata": {
        "id": "bE9mje53AGd0"
      },
      "source": [
        "Context"
      ]
    },
    {
      "cell_type": "markdown",
      "metadata": {
        "id": "f1GiYD2dfRSu"
      },
      "source": [
        "Packages used are the standard data science packages, I also added on a package called data augmentation (details at the bottom of the notebook). Data augmentation will be used later on to assist with the ML techniques used as having annual data starting in 1969 will not result in enough data to result in a robust predictive model considering trained models usually use exponentially larger datasets to train the models. "
      ]
    },
    {
      "cell_type": "code",
      "metadata": {
        "colab": {
          "base_uri": "https://localhost:8080/"
        },
        "id": "oFqzuHVahuOn",
        "outputId": "db4450ff-41b5-4969-d4ae-0ad09027bc9c"
      },
      "source": [
        "import numpy as np\n",
        "import matplotlib.pyplot as plt\n",
        "import matplotlib.ticker as ticker\n",
        "import scipy as sci\n",
        "import statsmodels.api as stat\n",
        "import statsmodels.formula.api as smf\n",
        "import io\n",
        "import pandas as pd\n",
        "import seaborn as sns"
      ],
      "execution_count": 1,
      "outputs": [
        {
          "output_type": "stream",
          "name": "stderr",
          "text": [
            "/usr/local/lib/python3.7/dist-packages/statsmodels/tools/_testing.py:19: FutureWarning: pandas.util.testing is deprecated. Use the functions in the public API at pandas.testing instead.\n",
            "  import pandas.util.testing as tm\n"
          ]
        }
      ]
    },
    {
      "cell_type": "code",
      "metadata": {
        "id": "557zzwOpLdZ-"
      },
      "source": [
        "url = 'https://raw.githubusercontent.com/thicpanda/public-health-sample/main/SNAP%20Data?token=AVOW3SLTZVPZ3N6QTKY7ALLBWDZMU'\n",
        "#I ported the dataset that I already cleaned and feature engineered, to retrive data you will need to go to the Github link on top of the Python Notebook and click the \"Raw\" view of the files the copy and past the url as the token wil likely have refreshed\n",
        "df1 = pd.read_csv(url)"
      ],
      "execution_count": 3,
      "outputs": []
    },
    {
      "cell_type": "code",
      "metadata": {
        "colab": {
          "base_uri": "https://localhost:8080/",
          "height": 1000
        },
        "id": "jHx6UePkbrJj",
        "outputId": "7e213585-c4b5-4fce-eb70-c7bccd7ac3f3"
      },
      "source": [
        "df1"
      ],
      "execution_count": 4,
      "outputs": [
        {
          "output_type": "execute_result",
          "data": {
            "text/html": [
              "<div>\n",
              "<style scoped>\n",
              "    .dataframe tbody tr th:only-of-type {\n",
              "        vertical-align: middle;\n",
              "    }\n",
              "\n",
              "    .dataframe tbody tr th {\n",
              "        vertical-align: top;\n",
              "    }\n",
              "\n",
              "    .dataframe thead th {\n",
              "        text-align: right;\n",
              "    }\n",
              "</style>\n",
              "<table border=\"1\" class=\"dataframe\">\n",
              "  <thead>\n",
              "    <tr style=\"text-align: right;\">\n",
              "      <th></th>\n",
              "      <th>Fiscal_Year</th>\n",
              "      <th>Average_Participation(thousands)</th>\n",
              "      <th>Average_Monthly_Benefit_Per_Person($)</th>\n",
              "      <th>Total_Benefits(Millions)</th>\n",
              "      <th>All_Other_Costs(Millions)</th>\n",
              "      <th>Total_Costs(Millions)</th>\n",
              "      <th>Annual_Inflation(%)</th>\n",
              "      <th>Annual_US_Population_Growth(%)</th>\n",
              "      <th>Annual_Participation_Growth_Rate(%)</th>\n",
              "      <th>Annual_Admin_Cost_Growth(or_loss)</th>\n",
              "      <th>Annual_Total_Benefit_Growth(%)</th>\n",
              "      <th>Monthly_Benefit_Growth_Per_Person(%)</th>\n",
              "      <th>Total_Benefits_Minus_Inflation(%)</th>\n",
              "    </tr>\n",
              "  </thead>\n",
              "  <tbody>\n",
              "    <tr>\n",
              "      <th>0</th>\n",
              "      <td>1969</td>\n",
              "      <td>2,878</td>\n",
              "      <td>6.63</td>\n",
              "      <td>228.80</td>\n",
              "      <td>21.70</td>\n",
              "      <td>250.50</td>\n",
              "      <td>5.46</td>\n",
              "      <td>0.90</td>\n",
              "      <td>0.00</td>\n",
              "      <td>0.00</td>\n",
              "      <td>0.00</td>\n",
              "      <td>0.00</td>\n",
              "      <td>0.00</td>\n",
              "    </tr>\n",
              "    <tr>\n",
              "      <th>1</th>\n",
              "      <td>1970</td>\n",
              "      <td>4,340</td>\n",
              "      <td>10.55</td>\n",
              "      <td>549.70</td>\n",
              "      <td>27.20</td>\n",
              "      <td>576.90</td>\n",
              "      <td>5.84</td>\n",
              "      <td>0.89</td>\n",
              "      <td>33.69</td>\n",
              "      <td>20.22</td>\n",
              "      <td>58.38</td>\n",
              "      <td>37.16</td>\n",
              "      <td>52.54</td>\n",
              "    </tr>\n",
              "    <tr>\n",
              "      <th>2</th>\n",
              "      <td>1971</td>\n",
              "      <td>9,368</td>\n",
              "      <td>13.55</td>\n",
              "      <td>1,522.70</td>\n",
              "      <td>53.20</td>\n",
              "      <td>1,575.90</td>\n",
              "      <td>4.29</td>\n",
              "      <td>0.89</td>\n",
              "      <td>53.67</td>\n",
              "      <td>48.87</td>\n",
              "      <td>63.90</td>\n",
              "      <td>22.14</td>\n",
              "      <td>59.61</td>\n",
              "    </tr>\n",
              "    <tr>\n",
              "      <th>3</th>\n",
              "      <td>1972</td>\n",
              "      <td>11,109</td>\n",
              "      <td>13.48</td>\n",
              "      <td>1,797.30</td>\n",
              "      <td>69.40</td>\n",
              "      <td>1,866.70</td>\n",
              "      <td>3.27</td>\n",
              "      <td>0.89</td>\n",
              "      <td>15.67</td>\n",
              "      <td>23.34</td>\n",
              "      <td>15.28</td>\n",
              "      <td>-0.52</td>\n",
              "      <td>12.01</td>\n",
              "    </tr>\n",
              "    <tr>\n",
              "      <th>4</th>\n",
              "      <td>1973</td>\n",
              "      <td>12,166</td>\n",
              "      <td>14.60</td>\n",
              "      <td>2,131.40</td>\n",
              "      <td>76.00</td>\n",
              "      <td>2,207.40</td>\n",
              "      <td>6.18</td>\n",
              "      <td>0.90</td>\n",
              "      <td>8.69</td>\n",
              "      <td>8.68</td>\n",
              "      <td>15.68</td>\n",
              "      <td>7.67</td>\n",
              "      <td>9.50</td>\n",
              "    </tr>\n",
              "    <tr>\n",
              "      <th>5</th>\n",
              "      <td>1974</td>\n",
              "      <td>12,862</td>\n",
              "      <td>17.61</td>\n",
              "      <td>2,718.30</td>\n",
              "      <td>119.20</td>\n",
              "      <td>2,837.50</td>\n",
              "      <td>11.05</td>\n",
              "      <td>0.90</td>\n",
              "      <td>5.41</td>\n",
              "      <td>36.24</td>\n",
              "      <td>21.59</td>\n",
              "      <td>17.09</td>\n",
              "      <td>10.54</td>\n",
              "    </tr>\n",
              "    <tr>\n",
              "      <th>6</th>\n",
              "      <td>1975</td>\n",
              "      <td>17,064</td>\n",
              "      <td>21.40</td>\n",
              "      <td>4,385.50</td>\n",
              "      <td>233.20</td>\n",
              "      <td>4,618.70</td>\n",
              "      <td>9.14</td>\n",
              "      <td>0.91</td>\n",
              "      <td>24.62</td>\n",
              "      <td>48.89</td>\n",
              "      <td>38.02</td>\n",
              "      <td>17.71</td>\n",
              "      <td>28.87</td>\n",
              "    </tr>\n",
              "    <tr>\n",
              "      <th>7</th>\n",
              "      <td>1976</td>\n",
              "      <td>18,549</td>\n",
              "      <td>23.93</td>\n",
              "      <td>5,326.50</td>\n",
              "      <td>359.00</td>\n",
              "      <td>5,685.50</td>\n",
              "      <td>5.74</td>\n",
              "      <td>0.92</td>\n",
              "      <td>8.01</td>\n",
              "      <td>35.04</td>\n",
              "      <td>17.67</td>\n",
              "      <td>10.57</td>\n",
              "      <td>11.92</td>\n",
              "    </tr>\n",
              "    <tr>\n",
              "      <th>8</th>\n",
              "      <td>1977</td>\n",
              "      <td>17,077</td>\n",
              "      <td>24.71</td>\n",
              "      <td>5,067.00</td>\n",
              "      <td>394.00</td>\n",
              "      <td>5,461.00</td>\n",
              "      <td>6.50</td>\n",
              "      <td>0.93</td>\n",
              "      <td>-8.62</td>\n",
              "      <td>8.88</td>\n",
              "      <td>-5.12</td>\n",
              "      <td>3.16</td>\n",
              "      <td>-11.62</td>\n",
              "    </tr>\n",
              "    <tr>\n",
              "      <th>9</th>\n",
              "      <td>1978</td>\n",
              "      <td>16,001</td>\n",
              "      <td>26.77</td>\n",
              "      <td>5,139.20</td>\n",
              "      <td>380.50</td>\n",
              "      <td>5,519.70</td>\n",
              "      <td>7.63</td>\n",
              "      <td>0.94</td>\n",
              "      <td>-6.72</td>\n",
              "      <td>-3.55</td>\n",
              "      <td>1.40</td>\n",
              "      <td>7.70</td>\n",
              "      <td>-6.23</td>\n",
              "    </tr>\n",
              "    <tr>\n",
              "      <th>10</th>\n",
              "      <td>1979</td>\n",
              "      <td>17,653</td>\n",
              "      <td>30.59</td>\n",
              "      <td>6,480.20</td>\n",
              "      <td>459.60</td>\n",
              "      <td>6,939.80</td>\n",
              "      <td>11.25</td>\n",
              "      <td>0.94</td>\n",
              "      <td>9.36</td>\n",
              "      <td>17.21</td>\n",
              "      <td>20.69</td>\n",
              "      <td>12.49</td>\n",
              "      <td>9.44</td>\n",
              "    </tr>\n",
              "    <tr>\n",
              "      <th>11</th>\n",
              "      <td>1980</td>\n",
              "      <td>21,082</td>\n",
              "      <td>34.47</td>\n",
              "      <td>8,720.90</td>\n",
              "      <td>485.60</td>\n",
              "      <td>9,206.50</td>\n",
              "      <td>13.55</td>\n",
              "      <td>0.94</td>\n",
              "      <td>16.27</td>\n",
              "      <td>5.35</td>\n",
              "      <td>25.69</td>\n",
              "      <td>11.26</td>\n",
              "      <td>12.14</td>\n",
              "    </tr>\n",
              "    <tr>\n",
              "      <th>12</th>\n",
              "      <td>1981</td>\n",
              "      <td>22,430</td>\n",
              "      <td>39.49</td>\n",
              "      <td>10,629.90</td>\n",
              "      <td>595.40</td>\n",
              "      <td>11,225.20</td>\n",
              "      <td>10.33</td>\n",
              "      <td>0.94</td>\n",
              "      <td>6.01</td>\n",
              "      <td>18.44</td>\n",
              "      <td>17.96</td>\n",
              "      <td>12.71</td>\n",
              "      <td>7.62</td>\n",
              "    </tr>\n",
              "    <tr>\n",
              "      <th>13</th>\n",
              "      <td>1982</td>\n",
              "      <td>21,717</td>\n",
              "      <td>39.17</td>\n",
              "      <td>10,208.30</td>\n",
              "      <td>628.40</td>\n",
              "      <td>10,836.70</td>\n",
              "      <td>6.13</td>\n",
              "      <td>0.94</td>\n",
              "      <td>-3.28</td>\n",
              "      <td>5.25</td>\n",
              "      <td>-4.13</td>\n",
              "      <td>-0.82</td>\n",
              "      <td>-10.26</td>\n",
              "    </tr>\n",
              "    <tr>\n",
              "      <th>14</th>\n",
              "      <td>1983</td>\n",
              "      <td>21,625</td>\n",
              "      <td>42.98</td>\n",
              "      <td>11,152.30</td>\n",
              "      <td>694.80</td>\n",
              "      <td>11,847.10</td>\n",
              "      <td>3.21</td>\n",
              "      <td>0.94</td>\n",
              "      <td>-0.43</td>\n",
              "      <td>9.56</td>\n",
              "      <td>8.46</td>\n",
              "      <td>8.86</td>\n",
              "      <td>5.25</td>\n",
              "    </tr>\n",
              "    <tr>\n",
              "      <th>15</th>\n",
              "      <td>1984</td>\n",
              "      <td>20,854</td>\n",
              "      <td>42.74</td>\n",
              "      <td>10,696.10</td>\n",
              "      <td>882.60</td>\n",
              "      <td>11,578.80</td>\n",
              "      <td>4.30</td>\n",
              "      <td>0.94</td>\n",
              "      <td>-3.70</td>\n",
              "      <td>21.28</td>\n",
              "      <td>-4.27</td>\n",
              "      <td>-0.56</td>\n",
              "      <td>-8.57</td>\n",
              "    </tr>\n",
              "    <tr>\n",
              "      <th>16</th>\n",
              "      <td>1985</td>\n",
              "      <td>19,899</td>\n",
              "      <td>44.99</td>\n",
              "      <td>10,743.60</td>\n",
              "      <td>959.60</td>\n",
              "      <td>11,703.20</td>\n",
              "      <td>3.55</td>\n",
              "      <td>0.94</td>\n",
              "      <td>-4.80</td>\n",
              "      <td>8.02</td>\n",
              "      <td>0.44</td>\n",
              "      <td>5.00</td>\n",
              "      <td>-3.10</td>\n",
              "    </tr>\n",
              "    <tr>\n",
              "      <th>17</th>\n",
              "      <td>1986</td>\n",
              "      <td>19,429</td>\n",
              "      <td>45.49</td>\n",
              "      <td>10,605.20</td>\n",
              "      <td>1,033.20</td>\n",
              "      <td>11,638.40</td>\n",
              "      <td>1.90</td>\n",
              "      <td>0.94</td>\n",
              "      <td>-2.42</td>\n",
              "      <td>7.12</td>\n",
              "      <td>-1.31</td>\n",
              "      <td>1.10</td>\n",
              "      <td>-3.20</td>\n",
              "    </tr>\n",
              "    <tr>\n",
              "      <th>18</th>\n",
              "      <td>1987</td>\n",
              "      <td>19,113</td>\n",
              "      <td>45.78</td>\n",
              "      <td>10,500.30</td>\n",
              "      <td>1,103.90</td>\n",
              "      <td>11,604.20</td>\n",
              "      <td>3.66</td>\n",
              "      <td>0.94</td>\n",
              "      <td>-1.65</td>\n",
              "      <td>6.40</td>\n",
              "      <td>-1.00</td>\n",
              "      <td>0.63</td>\n",
              "      <td>-4.66</td>\n",
              "    </tr>\n",
              "    <tr>\n",
              "      <th>19</th>\n",
              "      <td>1988</td>\n",
              "      <td>18,645</td>\n",
              "      <td>49.83</td>\n",
              "      <td>11,149.10</td>\n",
              "      <td>1,167.70</td>\n",
              "      <td>12,316.80</td>\n",
              "      <td>4.08</td>\n",
              "      <td>0.95</td>\n",
              "      <td>-2.51</td>\n",
              "      <td>5.46</td>\n",
              "      <td>5.82</td>\n",
              "      <td>8.13</td>\n",
              "      <td>1.74</td>\n",
              "    </tr>\n",
              "    <tr>\n",
              "      <th>20</th>\n",
              "      <td>1989</td>\n",
              "      <td>18,806</td>\n",
              "      <td>51.71</td>\n",
              "      <td>11,669.78</td>\n",
              "      <td>1,231.81</td>\n",
              "      <td>12,901.59</td>\n",
              "      <td>4.83</td>\n",
              "      <td>0.95</td>\n",
              "      <td>0.86</td>\n",
              "      <td>5.20</td>\n",
              "      <td>4.46</td>\n",
              "      <td>3.64</td>\n",
              "      <td>-0.37</td>\n",
              "    </tr>\n",
              "    <tr>\n",
              "      <th>21</th>\n",
              "      <td>1990</td>\n",
              "      <td>20,049</td>\n",
              "      <td>58.78</td>\n",
              "      <td>14,142.79</td>\n",
              "      <td>1,304.47</td>\n",
              "      <td>15,447.26</td>\n",
              "      <td>5.40</td>\n",
              "      <td>0.96</td>\n",
              "      <td>6.20</td>\n",
              "      <td>5.57</td>\n",
              "      <td>17.49</td>\n",
              "      <td>12.03</td>\n",
              "      <td>12.09</td>\n",
              "    </tr>\n",
              "    <tr>\n",
              "      <th>22</th>\n",
              "      <td>1991</td>\n",
              "      <td>22,625</td>\n",
              "      <td>63.78</td>\n",
              "      <td>17,315.77</td>\n",
              "      <td>1,431.50</td>\n",
              "      <td>18,747.27</td>\n",
              "      <td>4.24</td>\n",
              "      <td>0.96</td>\n",
              "      <td>11.38</td>\n",
              "      <td>8.87</td>\n",
              "      <td>18.32</td>\n",
              "      <td>7.84</td>\n",
              "      <td>14.09</td>\n",
              "    </tr>\n",
              "    <tr>\n",
              "      <th>23</th>\n",
              "      <td>1992</td>\n",
              "      <td>25,407</td>\n",
              "      <td>68.57</td>\n",
              "      <td>20,905.68</td>\n",
              "      <td>1,556.66</td>\n",
              "      <td>22,462.34</td>\n",
              "      <td>3.03</td>\n",
              "      <td>0.96</td>\n",
              "      <td>10.95</td>\n",
              "      <td>8.04</td>\n",
              "      <td>17.17</td>\n",
              "      <td>6.99</td>\n",
              "      <td>14.14</td>\n",
              "    </tr>\n",
              "    <tr>\n",
              "      <th>24</th>\n",
              "      <td>1993</td>\n",
              "      <td>26,987</td>\n",
              "      <td>67.95</td>\n",
              "      <td>22,006.03</td>\n",
              "      <td>1,646.94</td>\n",
              "      <td>23,652.97</td>\n",
              "      <td>2.95</td>\n",
              "      <td>0.99</td>\n",
              "      <td>5.85</td>\n",
              "      <td>5.48</td>\n",
              "      <td>5.00</td>\n",
              "      <td>-0.91</td>\n",
              "      <td>2.05</td>\n",
              "    </tr>\n",
              "    <tr>\n",
              "      <th>25</th>\n",
              "      <td>1994</td>\n",
              "      <td>27,474</td>\n",
              "      <td>69.00</td>\n",
              "      <td>22,748.58</td>\n",
              "      <td>1,744.87</td>\n",
              "      <td>24,493.45</td>\n",
              "      <td>2.61</td>\n",
              "      <td>1.04</td>\n",
              "      <td>1.77</td>\n",
              "      <td>5.61</td>\n",
              "      <td>3.26</td>\n",
              "      <td>1.52</td>\n",
              "      <td>0.66</td>\n",
              "    </tr>\n",
              "    <tr>\n",
              "      <th>26</th>\n",
              "      <td>1995</td>\n",
              "      <td>26,619</td>\n",
              "      <td>71.27</td>\n",
              "      <td>22,764.07</td>\n",
              "      <td>1,856.30</td>\n",
              "      <td>24,620.37</td>\n",
              "      <td>2.81</td>\n",
              "      <td>1.11</td>\n",
              "      <td>-3.21</td>\n",
              "      <td>6.00</td>\n",
              "      <td>0.07</td>\n",
              "      <td>3.19</td>\n",
              "      <td>-2.74</td>\n",
              "    </tr>\n",
              "    <tr>\n",
              "      <th>27</th>\n",
              "      <td>1996</td>\n",
              "      <td>25,543</td>\n",
              "      <td>73.21</td>\n",
              "      <td>22,440.11</td>\n",
              "      <td>1,890.88</td>\n",
              "      <td>24,330.99</td>\n",
              "      <td>2.93</td>\n",
              "      <td>1.20</td>\n",
              "      <td>-4.21</td>\n",
              "      <td>1.83</td>\n",
              "      <td>-1.44</td>\n",
              "      <td>2.65</td>\n",
              "      <td>-4.37</td>\n",
              "    </tr>\n",
              "    <tr>\n",
              "      <th>28</th>\n",
              "      <td>1997</td>\n",
              "      <td>22,858</td>\n",
              "      <td>71.27</td>\n",
              "      <td>19,548.86</td>\n",
              "      <td>1,958.68</td>\n",
              "      <td>21,507.55</td>\n",
              "      <td>2.34</td>\n",
              "      <td>1.26</td>\n",
              "      <td>-11.74</td>\n",
              "      <td>3.46</td>\n",
              "      <td>-14.79</td>\n",
              "      <td>-2.72</td>\n",
              "      <td>-17.13</td>\n",
              "    </tr>\n",
              "    <tr>\n",
              "      <th>29</th>\n",
              "      <td>1998</td>\n",
              "      <td>19,791</td>\n",
              "      <td>71.12</td>\n",
              "      <td>16,890.49</td>\n",
              "      <td>2,097.84</td>\n",
              "      <td>18,988.32</td>\n",
              "      <td>1.55</td>\n",
              "      <td>1.27</td>\n",
              "      <td>-15.50</td>\n",
              "      <td>6.63</td>\n",
              "      <td>-15.74</td>\n",
              "      <td>-0.21</td>\n",
              "      <td>-17.29</td>\n",
              "    </tr>\n",
              "    <tr>\n",
              "      <th>30</th>\n",
              "      <td>1999</td>\n",
              "      <td>18,183</td>\n",
              "      <td>72.27</td>\n",
              "      <td>15,769.40</td>\n",
              "      <td>2,051.52</td>\n",
              "      <td>17,820.92</td>\n",
              "      <td>2.19</td>\n",
              "      <td>1.23</td>\n",
              "      <td>-8.85</td>\n",
              "      <td>-2.26</td>\n",
              "      <td>-7.11</td>\n",
              "      <td>1.59</td>\n",
              "      <td>-9.30</td>\n",
              "    </tr>\n",
              "    <tr>\n",
              "      <th>31</th>\n",
              "      <td>2000</td>\n",
              "      <td>17,194</td>\n",
              "      <td>72.62</td>\n",
              "      <td>14,983.32</td>\n",
              "      <td>2,070.70</td>\n",
              "      <td>17,054.02</td>\n",
              "      <td>3.38</td>\n",
              "      <td>1.14</td>\n",
              "      <td>-5.75</td>\n",
              "      <td>0.93</td>\n",
              "      <td>-5.25</td>\n",
              "      <td>0.48</td>\n",
              "      <td>-8.62</td>\n",
              "    </tr>\n",
              "    <tr>\n",
              "      <th>32</th>\n",
              "      <td>2001</td>\n",
              "      <td>17,318</td>\n",
              "      <td>74.81</td>\n",
              "      <td>15,547.39</td>\n",
              "      <td>2,242.00</td>\n",
              "      <td>17,789.39</td>\n",
              "      <td>2.83</td>\n",
              "      <td>1.03</td>\n",
              "      <td>0.72</td>\n",
              "      <td>7.64</td>\n",
              "      <td>3.63</td>\n",
              "      <td>2.93</td>\n",
              "      <td>0.80</td>\n",
              "    </tr>\n",
              "    <tr>\n",
              "      <th>33</th>\n",
              "      <td>2002</td>\n",
              "      <td>19,096</td>\n",
              "      <td>79.67</td>\n",
              "      <td>18,256.20</td>\n",
              "      <td>2,380.82</td>\n",
              "      <td>20,637.02</td>\n",
              "      <td>1.59</td>\n",
              "      <td>0.94</td>\n",
              "      <td>9.31</td>\n",
              "      <td>5.83</td>\n",
              "      <td>14.84</td>\n",
              "      <td>6.10</td>\n",
              "      <td>13.25</td>\n",
              "    </tr>\n",
              "    <tr>\n",
              "      <th>34</th>\n",
              "      <td>2003</td>\n",
              "      <td>21,250</td>\n",
              "      <td>83.94</td>\n",
              "      <td>21,404.28</td>\n",
              "      <td>2,412.01</td>\n",
              "      <td>23,816.28</td>\n",
              "      <td>2.27</td>\n",
              "      <td>0.88</td>\n",
              "      <td>10.14</td>\n",
              "      <td>1.29</td>\n",
              "      <td>14.71</td>\n",
              "      <td>5.09</td>\n",
              "      <td>12.44</td>\n",
              "    </tr>\n",
              "    <tr>\n",
              "      <th>35</th>\n",
              "      <td>2004</td>\n",
              "      <td>23,811</td>\n",
              "      <td>86.16</td>\n",
              "      <td>24,618.89</td>\n",
              "      <td>2,480.14</td>\n",
              "      <td>27,099.03</td>\n",
              "      <td>2.68</td>\n",
              "      <td>0.88</td>\n",
              "      <td>10.76</td>\n",
              "      <td>2.75</td>\n",
              "      <td>13.06</td>\n",
              "      <td>2.58</td>\n",
              "      <td>10.38</td>\n",
              "    </tr>\n",
              "    <tr>\n",
              "      <th>36</th>\n",
              "      <td>2005</td>\n",
              "      <td>25,628</td>\n",
              "      <td>92.89</td>\n",
              "      <td>28,567.88</td>\n",
              "      <td>2,504.13</td>\n",
              "      <td>31,072.01</td>\n",
              "      <td>3.39</td>\n",
              "      <td>0.90</td>\n",
              "      <td>7.09</td>\n",
              "      <td>0.96</td>\n",
              "      <td>13.82</td>\n",
              "      <td>7.25</td>\n",
              "      <td>10.43</td>\n",
              "    </tr>\n",
              "    <tr>\n",
              "      <th>37</th>\n",
              "      <td>2006</td>\n",
              "      <td>26,549</td>\n",
              "      <td>94.75</td>\n",
              "      <td>30,187.35</td>\n",
              "      <td>2,715.72</td>\n",
              "      <td>32,903.06</td>\n",
              "      <td>3.23</td>\n",
              "      <td>0.94</td>\n",
              "      <td>3.47</td>\n",
              "      <td>7.79</td>\n",
              "      <td>5.36</td>\n",
              "      <td>1.96</td>\n",
              "      <td>2.14</td>\n",
              "    </tr>\n",
              "    <tr>\n",
              "      <th>38</th>\n",
              "      <td>2007</td>\n",
              "      <td>26,316</td>\n",
              "      <td>96.18</td>\n",
              "      <td>30,373.27</td>\n",
              "      <td>2,800.25</td>\n",
              "      <td>33,173.52</td>\n",
              "      <td>2.85</td>\n",
              "      <td>0.96</td>\n",
              "      <td>-0.88</td>\n",
              "      <td>3.02</td>\n",
              "      <td>0.61</td>\n",
              "      <td>1.49</td>\n",
              "      <td>-2.24</td>\n",
              "    </tr>\n",
              "    <tr>\n",
              "      <th>39</th>\n",
              "      <td>2008</td>\n",
              "      <td>28,223</td>\n",
              "      <td>102.19</td>\n",
              "      <td>34,608.40</td>\n",
              "      <td>3,031.25</td>\n",
              "      <td>37,639.64</td>\n",
              "      <td>3.84</td>\n",
              "      <td>0.96</td>\n",
              "      <td>6.76</td>\n",
              "      <td>7.62</td>\n",
              "      <td>12.24</td>\n",
              "      <td>5.88</td>\n",
              "      <td>8.40</td>\n",
              "    </tr>\n",
              "    <tr>\n",
              "      <th>40</th>\n",
              "      <td>2009</td>\n",
              "      <td>33,490</td>\n",
              "      <td>125.31</td>\n",
              "      <td>50,359.92</td>\n",
              "      <td>3,260.00</td>\n",
              "      <td>53,619.92</td>\n",
              "      <td>-0.36</td>\n",
              "      <td>0.93</td>\n",
              "      <td>15.73</td>\n",
              "      <td>7.02</td>\n",
              "      <td>31.28</td>\n",
              "      <td>18.45</td>\n",
              "      <td>31.63</td>\n",
              "    </tr>\n",
              "    <tr>\n",
              "      <th>41</th>\n",
              "      <td>2010</td>\n",
              "      <td>40,302</td>\n",
              "      <td>133.79</td>\n",
              "      <td>64,702.16</td>\n",
              "      <td>3,581.30</td>\n",
              "      <td>68,283.47</td>\n",
              "      <td>1.64</td>\n",
              "      <td>0.88</td>\n",
              "      <td>16.90</td>\n",
              "      <td>8.97</td>\n",
              "      <td>22.17</td>\n",
              "      <td>6.34</td>\n",
              "      <td>20.53</td>\n",
              "    </tr>\n",
              "    <tr>\n",
              "      <th>42</th>\n",
              "      <td>2011</td>\n",
              "      <td>44,709</td>\n",
              "      <td>133.85</td>\n",
              "      <td>71,810.92</td>\n",
              "      <td>3,875.62</td>\n",
              "      <td>75,686.54</td>\n",
              "      <td>3.16</td>\n",
              "      <td>0.83</td>\n",
              "      <td>9.86</td>\n",
              "      <td>7.59</td>\n",
              "      <td>9.90</td>\n",
              "      <td>0.04</td>\n",
              "      <td>6.74</td>\n",
              "    </tr>\n",
              "    <tr>\n",
              "      <th>43</th>\n",
              "      <td>2012</td>\n",
              "      <td>46,609</td>\n",
              "      <td>133.41</td>\n",
              "      <td>74,619.34</td>\n",
              "      <td>3,791.75</td>\n",
              "      <td>78,411.10</td>\n",
              "      <td>2.07</td>\n",
              "      <td>0.79</td>\n",
              "      <td>4.08</td>\n",
              "      <td>-2.21</td>\n",
              "      <td>3.76</td>\n",
              "      <td>-0.33</td>\n",
              "      <td>1.69</td>\n",
              "    </tr>\n",
              "    <tr>\n",
              "      <th>44</th>\n",
              "      <td>2013</td>\n",
              "      <td>47,636</td>\n",
              "      <td>133.07</td>\n",
              "      <td>76,066.32</td>\n",
              "      <td>3,792.71</td>\n",
              "      <td>79,859.03</td>\n",
              "      <td>1.46</td>\n",
              "      <td>0.75</td>\n",
              "      <td>2.16</td>\n",
              "      <td>0.03</td>\n",
              "      <td>1.90</td>\n",
              "      <td>-0.26</td>\n",
              "      <td>0.44</td>\n",
              "    </tr>\n",
              "    <tr>\n",
              "      <th>45</th>\n",
              "      <td>2014</td>\n",
              "      <td>46,664</td>\n",
              "      <td>125.01</td>\n",
              "      <td>69,998.84</td>\n",
              "      <td>4,061.49</td>\n",
              "      <td>74,060.33</td>\n",
              "      <td>1.62</td>\n",
              "      <td>0.72</td>\n",
              "      <td>-2.08</td>\n",
              "      <td>6.62</td>\n",
              "      <td>-8.67</td>\n",
              "      <td>-6.45</td>\n",
              "      <td>-10.29</td>\n",
              "    </tr>\n",
              "    <tr>\n",
              "      <th>46</th>\n",
              "      <td>2015</td>\n",
              "      <td>45,767</td>\n",
              "      <td>126.81</td>\n",
              "      <td>69,645.14</td>\n",
              "      <td>4,301.03</td>\n",
              "      <td>73,946.17</td>\n",
              "      <td>0.12</td>\n",
              "      <td>0.69</td>\n",
              "      <td>-1.96</td>\n",
              "      <td>5.57</td>\n",
              "      <td>-0.51</td>\n",
              "      <td>1.42</td>\n",
              "      <td>-0.63</td>\n",
              "    </tr>\n",
              "    <tr>\n",
              "      <th>47</th>\n",
              "      <td>2016</td>\n",
              "      <td>44,220</td>\n",
              "      <td>125.40</td>\n",
              "      <td>66,539.27</td>\n",
              "      <td>4,372.87</td>\n",
              "      <td>70,912.14</td>\n",
              "      <td>1.26</td>\n",
              "      <td>0.67</td>\n",
              "      <td>-3.50</td>\n",
              "      <td>1.64</td>\n",
              "      <td>-4.67</td>\n",
              "      <td>-1.12</td>\n",
              "      <td>-5.93</td>\n",
              "    </tr>\n",
              "    <tr>\n",
              "      <th>48</th>\n",
              "      <td>2017</td>\n",
              "      <td>42,317</td>\n",
              "      <td>125.47</td>\n",
              "      <td>63,711.05</td>\n",
              "      <td>4,464.27</td>\n",
              "      <td>68,175.32</td>\n",
              "      <td>2.13</td>\n",
              "      <td>0.64</td>\n",
              "      <td>-4.50</td>\n",
              "      <td>2.05</td>\n",
              "      <td>-4.44</td>\n",
              "      <td>0.06</td>\n",
              "      <td>-6.57</td>\n",
              "    </tr>\n",
              "    <tr>\n",
              "      <th>49</th>\n",
              "      <td>2018</td>\n",
              "      <td>40,776</td>\n",
              "      <td>124.50</td>\n",
              "      <td>60,916.85</td>\n",
              "      <td>4,533.16</td>\n",
              "      <td>65,450.01</td>\n",
              "      <td>2.44</td>\n",
              "      <td>0.62</td>\n",
              "      <td>-3.78</td>\n",
              "      <td>1.52</td>\n",
              "      <td>-4.59</td>\n",
              "      <td>-0.78</td>\n",
              "      <td>-7.03</td>\n",
              "    </tr>\n",
              "    <tr>\n",
              "      <th>50</th>\n",
              "      <td>2019</td>\n",
              "      <td>35,702</td>\n",
              "      <td>129.83</td>\n",
              "      <td>55,622.28</td>\n",
              "      <td>4,774.91</td>\n",
              "      <td>60,397.19</td>\n",
              "      <td>1.81</td>\n",
              "      <td>0.60</td>\n",
              "      <td>-14.21</td>\n",
              "      <td>5.06</td>\n",
              "      <td>-9.52</td>\n",
              "      <td>4.11</td>\n",
              "      <td>-11.33</td>\n",
              "    </tr>\n",
              "    <tr>\n",
              "      <th>51</th>\n",
              "      <td>2020</td>\n",
              "      <td>39,880</td>\n",
              "      <td>154.81</td>\n",
              "      <td>74,085.19</td>\n",
              "      <td>4,990.72</td>\n",
              "      <td>79,075.91</td>\n",
              "      <td>1.23</td>\n",
              "      <td>0.59</td>\n",
              "      <td>10.48</td>\n",
              "      <td>4.32</td>\n",
              "      <td>24.92</td>\n",
              "      <td>16.14</td>\n",
              "      <td>23.69</td>\n",
              "    </tr>\n",
              "  </tbody>\n",
              "</table>\n",
              "</div>"
            ],
            "text/plain": [
              "    Fiscal_Year  ... Total_Benefits_Minus_Inflation(%)\n",
              "0          1969  ...                              0.00\n",
              "1          1970  ...                             52.54\n",
              "2          1971  ...                             59.61\n",
              "3          1972  ...                             12.01\n",
              "4          1973  ...                              9.50\n",
              "5          1974  ...                             10.54\n",
              "6          1975  ...                             28.87\n",
              "7          1976  ...                             11.92\n",
              "8          1977  ...                            -11.62\n",
              "9          1978  ...                             -6.23\n",
              "10         1979  ...                              9.44\n",
              "11         1980  ...                             12.14\n",
              "12         1981  ...                              7.62\n",
              "13         1982  ...                            -10.26\n",
              "14         1983  ...                              5.25\n",
              "15         1984  ...                             -8.57\n",
              "16         1985  ...                             -3.10\n",
              "17         1986  ...                             -3.20\n",
              "18         1987  ...                             -4.66\n",
              "19         1988  ...                              1.74\n",
              "20         1989  ...                             -0.37\n",
              "21         1990  ...                             12.09\n",
              "22         1991  ...                             14.09\n",
              "23         1992  ...                             14.14\n",
              "24         1993  ...                              2.05\n",
              "25         1994  ...                              0.66\n",
              "26         1995  ...                             -2.74\n",
              "27         1996  ...                             -4.37\n",
              "28         1997  ...                            -17.13\n",
              "29         1998  ...                            -17.29\n",
              "30         1999  ...                             -9.30\n",
              "31         2000  ...                             -8.62\n",
              "32         2001  ...                              0.80\n",
              "33         2002  ...                             13.25\n",
              "34         2003  ...                             12.44\n",
              "35         2004  ...                             10.38\n",
              "36         2005  ...                             10.43\n",
              "37         2006  ...                              2.14\n",
              "38         2007  ...                             -2.24\n",
              "39         2008  ...                              8.40\n",
              "40         2009  ...                             31.63\n",
              "41         2010  ...                             20.53\n",
              "42         2011  ...                              6.74\n",
              "43         2012  ...                              1.69\n",
              "44         2013  ...                              0.44\n",
              "45         2014  ...                            -10.29\n",
              "46         2015  ...                             -0.63\n",
              "47         2016  ...                             -5.93\n",
              "48         2017  ...                             -6.57\n",
              "49         2018  ...                             -7.03\n",
              "50         2019  ...                            -11.33\n",
              "51         2020  ...                             23.69\n",
              "\n",
              "[52 rows x 13 columns]"
            ]
          },
          "metadata": {},
          "execution_count": 4
        }
      ]
    },
    {
      "cell_type": "markdown",
      "metadata": {
        "id": "tJXYtsGQbUzy"
      },
      "source": [
        "Feature Engineering - So the raw data I have compiled consists of some basic macro data in the US inflation and population growth rate as well as the data provided by the USDA who administers the SNAP program. I use various techniques to transform the data into more helpful forms to provide analysis of the SNAP program over time given some basic macro data to compare it with. \n",
        "\n",
        "Original Raw data consisted of:\n",
        "\n",
        "Year\n",
        "\n",
        "Average Participation (Thousands)\n",
        "\n",
        "Average Monthly Benefits Per Person (Dollars)\n",
        "\n",
        "Total Benefits (Millions)\n",
        "\n",
        "All Other Costs (Millions)\n",
        "\n",
        "Total Costs (Millions)\n",
        "\n",
        "Annual Inflation (%)\n",
        "\n",
        "Annual US Population Growth (%)\n",
        "\n",
        "Some Features I added in that were useful are:\n",
        "\n",
        "Annualized Growth (or recession): US Population, SNAP Program Particiaption, Admin Cost Growth, and Monthly Benefit Annual Growth\n",
        "\n",
        "Another Feature engineered for this anlysis is the difference in rates between annual growth of total benefits of the program and inflation.\n",
        "\n"
      ]
    },
    {
      "cell_type": "markdown",
      "metadata": {
        "id": "bIgm4JepPAWW"
      },
      "source": [
        "This next session will visualize specific features in the dataset and my analysis of the SNAP program over the lifespan of the SNAP program. In order they'll go as\n",
        "\n",
        "1. Participation Rates and Population Growth\n",
        "\n",
        "2. Benefits, Benefits per Person, and Inflation\n",
        "\n",
        "3. Admin Costs relative to Size of Total Benefts--> event driven based on legislation \n",
        "\n",
        "4. Extreme Examples and Patterns \n",
        "\n",
        "5. Moving Average/Rolling Window Summary\n",
        "\n"
      ]
    },
    {
      "cell_type": "markdown",
      "metadata": {
        "id": "Bryc5j7Cm4uu"
      },
      "source": [
        "#1. Participation Rates and Population Growth"
      ]
    },
    {
      "cell_type": "code",
      "metadata": {
        "colab": {
          "base_uri": "https://localhost:8080/",
          "height": 301
        },
        "id": "0oscAGyXO_yr",
        "outputId": "fe8886ca-1d3b-4129-9aca-72c813dc0332"
      },
      "source": [
        "sns.lineplot(x =\"Fiscal_Year\", y=\"Annual_Participation_Growth_Rate(%)\", data = df1)\n",
        "sns.lineplot(x =\"Fiscal_Year\", y=\"Annual_US_Population_Growth(%)\", data = df1)\n",
        "plt.ylabel(\"SNAP Participation and US Population Growth\")"
      ],
      "execution_count": 5,
      "outputs": [
        {
          "output_type": "execute_result",
          "data": {
            "text/plain": [
              "Text(0, 0.5, 'SNAP Participation and US Population Growth')"
            ]
          },
          "metadata": {},
          "execution_count": 5
        },
        {
          "output_type": "display_data",
          "data": {
            "image/png": "[encoded data removed]",
            "text/plain": [
              "<Figure size 432x288 with 1 Axes>"
            ]
          },
          "metadata": {
            "needs_background": "light"
          }
        }
      ]
    },
    {
      "cell_type": "markdown",
      "metadata": {
        "id": "JRFahWPh-Z5A"
      },
      "source": [
        "#Text Mentioning any relationship between population growth in the US and SNAP participation is weak"
      ]
    },
    {
      "cell_type": "markdown",
      "metadata": {
        "id": "3r_Y_anpnBAo"
      },
      "source": [
        "# 2. Benefits, Benefits per Person, and Inflation"
      ]
    },
    {
      "cell_type": "code",
      "metadata": {
        "colab": {
          "base_uri": "https://localhost:8080/",
          "height": 328
        },
        "id": "6jkIWyGB-nYD",
        "outputId": "882cb97d-159b-47d8-981a-9b8238da426c"
      },
      "source": [
        "sns.lineplot(x =\"Fiscal_Year\", y=\"Monthly_Benefit_Growth_Per_Person(%)\", data = df1)\n",
        "sns.lineplot(x =\"Fiscal_Year\", y=\"Annual_Inflation(%)\", data = df1)\n",
        "plt.ylabel(\"Benefit Growth/Decay per Person vs US Annual Inflation\")"
      ],
      "execution_count": 6,
      "outputs": [
        {
          "output_type": "execute_result",
          "data": {
            "text/plain": [
              "Text(0, 0.5, 'Benefit Growth/Decay per Person vs US Annual Inflation')"
            ]
          },
          "metadata": {},
          "execution_count": 6
        },
        {
          "output_type": "display_data",
          "data": {
            "image/png": "[encoded data removed]",
            "text/plain": [
              "<Figure size 432x288 with 1 Axes>"
            ]
          },
          "metadata": {
            "needs_background": "light"
          }
        }
      ]
    },
    {
      "cell_type": "markdown",
      "metadata": {
        "id": "an67SHit_Ka4"
      },
      "source": [
        ""
      ]
    },
    {
      "cell_type": "markdown",
      "metadata": {
        "id": "So10gXTwn6Zw"
      },
      "source": [
        "#Further Analysis of Difference in growth of annual monthly benefit percentage change and annual inflation"
      ]
    },
    {
      "cell_type": "markdown",
      "metadata": {
        "id": "IS34oG7jCxEl"
      },
      "source": [
        "Some data wrangling to display the difference between benefits per person percent change year over year and inflation. Negative values on the plot mean inflation outpaces the SNAP benefits growth that year and positive values mean the opposite"
      ]
    },
    {
      "cell_type": "code",
      "metadata": {
        "colab": {
          "base_uri": "https://localhost:8080/",
          "height": 305
        },
        "id": "oGzZufmpCrZQ",
        "outputId": "d9d768c7-6b8c-43db-ea7c-cca49b31b195"
      },
      "source": [
        "df1['Benefit_Percent_Change_and_Inflation_Difference'] = df1['Monthly_Benefit_Growth_Per_Person(%)'] - df1['Annual_Inflation(%)']\n",
        "\n",
        "sns.lineplot(x =\"Fiscal_Year\", y=\"Benefit_Percent_Change_and_Inflation_Difference\", data = df1)\n",
        "plt.ylabel(\"Benefit Percent Change Minus Annual Inflation\")"
      ],
      "execution_count": 7,
      "outputs": [
        {
          "output_type": "execute_result",
          "data": {
            "text/plain": [
              "Text(0, 0.5, 'Benefit Percent Change Minus Annual Inflation')"
            ]
          },
          "metadata": {},
          "execution_count": 7
        },
        {
          "output_type": "display_data",
          "data": {
            "image/png": "[encoded data removed]",
            "text/plain": [
              "<Figure size 432x288 with 1 Axes>"
            ]
          },
          "metadata": {
            "needs_background": "light"
          }
        }
      ]
    },
    {
      "cell_type": "markdown",
      "metadata": {
        "id": "y6YGVdUxloIk"
      },
      "source": [
        ""
      ]
    },
    {
      "cell_type": "markdown",
      "metadata": {
        "id": "ZD7xdEvqnsBX"
      },
      "source": [
        "# 3. Admin Costs relative to benefits"
      ]
    },
    {
      "cell_type": "code",
      "metadata": {
        "colab": {
          "base_uri": "https://localhost:8080/",
          "height": 297
        },
        "id": "VZ4ObgDp_mm2",
        "outputId": "1f3189dd-80a1-4dc0-950a-e74c87995717"
      },
      "source": [
        "sns.lineplot(x =\"Fiscal_Year\", y=\"Annual_Admin_Cost_Growth(or_loss)\", data = df1)\n",
        "sns.lineplot(x =\"Fiscal_Year\", y=\"Annual_Total_Benefit_Growth(%)\", data = df1)\n",
        "plt.ylabel(\"Costs Growth\")"
      ],
      "execution_count": 8,
      "outputs": [
        {
          "output_type": "execute_result",
          "data": {
            "text/plain": [
              "Text(0, 0.5, 'Costs Growth')"
            ]
          },
          "metadata": {},
          "execution_count": 8
        },
        {
          "output_type": "display_data",
          "data": {
            "image/png": "[encoded data removed]",
            "text/plain": [
              "<Figure size 432x288 with 1 Axes>"
            ]
          },
          "metadata": {
            "needs_background": "light"
          }
        }
      ]
    },
    {
      "cell_type": "markdown",
      "metadata": {
        "id": "GJOqGUFIIxh2"
      },
      "source": [
        "When Sorting out he extream values of the dataset being used. There are many extreme instances in which I'd like to go over. \n",
        "1. The genesis of Food Stamps program, as expected the program was likely little known but quickly picked up attention\n",
        "2. 2008 financial crisis\n",
        "3. The Dot Com bubble"
      ]
    },
    {
      "cell_type": "markdown",
      "metadata": {
        "id": "3lAe7EIo_NDj"
      },
      "source": [
        "Suggestion: Due to the \n",
        "\n",
        "\n"
      ]
    },
    {
      "cell_type": "code",
      "metadata": {
        "id": "8fF5gkRwwYI-"
      },
      "source": [
        ""
      ],
      "execution_count": null,
      "outputs": []
    },
    {
      "cell_type": "markdown",
      "metadata": {
        "id": "v5KctQpyp0I1"
      },
      "source": [
        "According to the USDA, the total expenses of the SNAP program is largely driven by participation in which the basic formula can be found on the website. \n",
        "\n",
        "The most recent legislation past regarding the SNAP program was passed in 2018 known as the \"Farm Bill\" or PL 115-334."
      ]
    },
    {
      "cell_type": "markdown",
      "metadata": {
        "id": "vxHoxN6WvSwg"
      },
      "source": [
        "With inflation reaching record highs this year and the stimulus money from quantitative easing done for the 2020 pandemic market crash. It is safe to assume that the costs of food will undoubtedly continue to rise. Combine these facts with how the "
      ]
    },
    {
      "cell_type": "markdown",
      "metadata": {
        "id": "vKACX2fyvqs0"
      },
      "source": [
        "#Legislation Analysis\n",
        "In the past couple of decades, reactive and not proactive. --> Have a neutral stance by "
      ]
    },
    {
      "cell_type": "markdown",
      "metadata": {
        "id": "1YQdguHwtULn"
      },
      "source": [
        "#Forcasting Future Benefits per Person using a modified linear regression#\n",
        "The \"modified\" part of linear regression is the use of data augmentation to increase the amount of data points wihch in theory should make the regression model more robust. "
      ]
    },
    {
      "cell_type": "markdown",
      "metadata": {
        "id": "T4ZMFEz5NTe9"
      },
      "source": [
        "Much of the code below is modified from the tensorflow time series forecasting example for the purpose of forecasting SNAP benefits per person. "
      ]
    },
    {
      "cell_type": "code",
      "metadata": {
        "id": "VaAb0m96EeKr"
      },
      "source": [
        "#Augment Data so we have more than 100 instances to work with resulting in a better model\n"
      ],
      "execution_count": null,
      "outputs": []
    },
    {
      "cell_type": "code",
      "metadata": {
        "id": "Mg6g4AeOJI2F"
      },
      "source": [
        "#Importing relevant packages to build ML model and splitting the data into testing, validation, and testing for traiing said models\n",
        "import os\n",
        "import datetime\n",
        "\n",
        "import IPython\n",
        "import IPython.display\n",
        "import matplotlib as mpl\n",
        "import tensorflow as tf\n",
        "\n",
        "column_indices = {name: i for i, name in enumerate(df1.columns)}\n",
        "\n",
        "n = len(df1)\n",
        "train_df = df1[0:int(n*0.7)]\n",
        "val_df = df1[int(n*0.7):int(n*0.9)]\n",
        "test_df = df1[int(n*0.9):]\n",
        "\n",
        "num_features = df1.shape[1]"
      ],
      "execution_count": null,
      "outputs": []
    },
    {
      "cell_type": "code",
      "metadata": {
        "id": "kmIFtBOdn9XZ"
      },
      "source": [
        "#Normalization of data where we scale the data accordingly so the Neural Network we build doesn't lose its mind\n",
        "train_mean = train_df.mean()\n",
        "train_std = train_df.std()\n",
        "\n",
        "train_df = (train_df - train_mean) / train_std\n",
        "val_df = (val_df - train_mean) / train_std\n",
        "test_df = (test_df - train_mean) / train_std"
      ],
      "execution_count": null,
      "outputs": []
    },
    {
      "cell_type": "code",
      "metadata": {
        "id": "Kem30j8QHxyW"
      },
      "source": [
        "#Split data into windows so the model can be trained with data sequentially\n",
        "\n",
        "class WindowGenerator():\n",
        "  def __init__(self, input_width, label_width, shift,\n",
        "               train_df=train_df, val_df=val_df, test_df=test_df,\n",
        "               label_columns=None):\n",
        "    # Store the raw data.\n",
        "    self.train_df = train_df\n",
        "    self.val_df = val_df\n",
        "    self.test_df = test_df\n",
        "\n",
        "    # Work out the label column indices.\n",
        "    self.label_columns = label_columns\n",
        "    if label_columns is not None:\n",
        "      self.label_columns_indices = {name: i for i, name in\n",
        "                                    enumerate(label_columns)}\n",
        "    self.column_indices = {name: i for i, name in\n",
        "                           enumerate(train_df.columns)}\n",
        "\n",
        "    # Work out the window parameters.\n",
        "    self.input_width = input_width\n",
        "    self.label_width = label_width\n",
        "    self.shift = shift\n",
        "\n",
        "    self.total_window_size = input_width + shift\n",
        "\n",
        "    self.input_slice = slice(0, input_width)\n",
        "    self.input_indices = np.arange(self.total_window_size)[self.input_slice]\n",
        "\n",
        "    self.label_start = self.total_window_size - self.label_width\n",
        "    self.labels_slice = slice(self.label_start, None)\n",
        "    self.label_indices = np.arange(self.total_window_size)[self.labels_slice]\n",
        "\n",
        "  def __repr__(self):\n",
        "    return '\\n'.join([\n",
        "        f'Total window size: {self.total_window_size}',\n",
        "        f'Input indices: {self.input_indices}',\n",
        "        f'Label indices: {self.label_indices}',\n",
        "        f'Label column name(s): {self.label_columns}'])\n",
        "    \n",
        "#Essentially builds the windows for the model to train with, breaking the dataset into smaller blocks.\n",
        "# use code in practice will look like... x = WindowGenerator(input_width=24, label_width=1, shift=24,\n",
        "                     #                        label_columns=['insert column name'])\n",
        "                     #Results in an output of an array with specified attributes and characterisitcs specificed by window generator class"
      ],
      "execution_count": null,
      "outputs": []
    },
    {
      "cell_type": "code",
      "metadata": {
        "id": "x5ycw5RzJRfz"
      },
      "source": [
        "def split_window(self, features):\n",
        "  inputs = features[:, self.input_slice, :]\n",
        "  labels = features[:, self.labels_slice, :]\n",
        "  if self.label_columns is not None:\n",
        "    labels = tf.stack(\n",
        "        [labels[:, :, self.column_indices[name]] for name in self.label_columns],\n",
        "        axis=-1)\n",
        "\n",
        "  # Slicing doesn't preserve static shape information, so set the shapes\n",
        "  # manually. This way the `tf.data.Datasets` are easier to inspect.\n",
        "  inputs.set_shape([None, self.input_width, None])\n",
        "  labels.set_shape([None, self.label_width, None])\n",
        "\n",
        "  return inputs, labels\n",
        "\n",
        "WindowGenerator.split_window = split_window"
      ],
      "execution_count": null,
      "outputs": []
    },
    {
      "cell_type": "markdown",
      "metadata": {
        "id": "OOLONSWA9Hk4"
      },
      "source": [
        "#Limitations of Analysis and ideas to for further research and analysis:\n",
        "\n",
        "I did not use state, country, or city data. So my conclusion can usually be accepted on average conditions. In specific circumstances such as someone living in NYC. A deeper analysis will be needed as there are state level and city level programs that also contribute benefits to those who are elegible.\n",
        "\n",
        "The use of annual data and not monthly data is also a limitation\n",
        "\n",
        "Aalysis does not consider alternatives to SNAP benefits of SNAP elgible population such as food banks\n",
        "\n",
        "I used CPI (consumer price index) to as the baseline for inflation, one can argue that cost of food is only a component in CPI computation so a more \"food-centric\" metric can be used. Further researchcan be done, but CPI is a good benchmark as the cost of food is correlated with CPI and CPI does contain the inptus to food products that will rise in price which gives a look ahead on future food costs (e.g. costs of trucks go up --> higher shipping costs --> higher food prices)\n"
      ]
    },
    {
      "cell_type": "markdown",
      "metadata": {
        "id": "DefROSLac6-w"
      },
      "source": [
        "Findings After a look at the data major changes to any of the growth rates of any of the features we have are event based based on whatever legislation is passed as well as macro events.\n",
        "\n",
        "Hypothesis: After anlaysis there is very little consistency and weak correlations  between snap benefit growth, inflation, and other metrics. So the changes are event-driven. Recent event inlcudes this. The SNAP program finally had a recent law giving USDA/SNAP admin some authority to change policies in how benefits are determined in 2018. Good thing too since the shutdown from COVID-19 resulted in a large spike. However there appears to be a \n",
        "\n",
        "Recent spikes of inflation this past year, the weakening dollar, rise of crypto, as well as other factors make it so final food product prices are in an environment that are very volatile. If the hypothesis holds true it is neccessary to link benefits to a price index to ensure the most vulnerable people in this country are able to maintain a healthy diet and not starve (make previous part more \"professional\"). As it takes the USDA years to gather data and do studies to actually make tangible actions, events that can affect food prices heavily such as the current pandemic may require too much time spent on the bureaucracy of the getting new figures in place and may result in complications due to inadequate nutriton intake in periods of high inflation that are easily preventable given the status of the US. \n",
        "#find a way to link current USDA food cost model to this portion\n",
        "\n",
        "This proposal does have it's weaknesses ..."
      ]
    },
    {
      "cell_type": "markdown",
      "metadata": {
        "id": "R7rw7i8Tc38r"
      },
      "source": [
        "References:\n",
        "\n",
        "https://arxiv.org/pdf/2004.08780v1.pdf - provided the code to you data augmentation for time series in order to have more data in the model \n",
        "\n",
        "https://arxiv.org/pdf/2002.12478v3.pdf - the link where the python package used to augment data\n",
        "\n",
        "https://www.fns.usda.gov/pl-115-334 - link to the most recent law passed regarding the SNAP program (refer to section 4001 or page 136)\n",
        "\n",
        "https://www.ncbi.nlm.nih.gov/books/NBK206907/ - Gives historical summary of the SNAP program and helps identify events that are very likely to be causes of spikes within teh data set\n",
        "\n",
        "\n",
        "\n",
        "---\n",
        "\n",
        "\n",
        "Data Sources:\n",
        "\n",
        "https://www.fns.usda.gov/pd/supplemental-nutrition-assistance-program-snap - USDA who administers the SNAP \n",
        "\n",
        "https://www.macrotrends.net/countries/USA/united-states/inflation-rate-cpi - US annual inflation data according to the World Bank\n",
        "\n",
        "https://www.macrotrends.net/countries/USA/united-states/population-growth-rate - Estimated Annual US Population Growth\n",
        "\n",
        "The compiled version of the data above that was imported on this notebook is through my Kaggle account and linked here -\n",
        "---\n",
        "\n",
        "\n"
      ]
    }
  ]
}